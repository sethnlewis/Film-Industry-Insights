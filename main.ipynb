{
 "cells": [
  {
   "cell_type": "markdown",
   "metadata": {},
   "source": [
    "# Creating a Successful Movie Studio\n",
    "\n",
    "**Author:** Seth Schober"
   ]
  },
  {
   "cell_type": "markdown",
   "metadata": {},
   "source": [
    "## Overview\n",
    "*** ***\n",
    "[one paragraph overview of the project, including the business problem, data, methods, results and recommendations]"
   ]
  },
  {
   "cell_type": "markdown",
   "metadata": {},
   "source": [
    "## Business Problem\n",
    "\n",
    "*** ***\n",
    "Summary of the business problem you are trying to solve, and the data questions that you plan to answer to solve them.\n",
    "\n",
    "Questions to consider:\n",
    "* What are the business's pain points related to this project?\n",
    "* How did you pick the data analysis question(s) that you did?\n",
    "* Why are these questions important from a business perspective?"
   ]
  },
  {
   "cell_type": "markdown",
   "metadata": {},
   "source": [
    "## Data Understanding\n",
    "\n",
    "*** ***\n",
    "Describe the data being used for this project.\n",
    "\n",
    "Questions to consider:\n",
    "* Where did the data come from, and how do they relate to the data analysis questions?\n",
    "* What do the data represent? Who is in the sample and what variables are included?\n",
    "* What is the target variable?\n",
    "* What are the properties of the variables you intend to use?\n",
    "\n",
    "Also define basic acronyms used throughout (e.g. rt=rotten tomatoes)"
   ]
  },
  {
   "cell_type": "markdown",
   "metadata": {},
   "source": [
    "## Data Preparation\n",
    "\n",
    "\n",
    "\n",
    "*** ***\n",
    "Describe and justify the process for preparing the data for analysis.\n",
    "\n",
    "Questions to consider:\n",
    "* Were there variables you dropped or created?\n",
    "* How did you address missing values or outliers?\n",
    "* Why are these choices appropriate given the data and the business problem?"
   ]
  },
  {
   "cell_type": "markdown",
   "metadata": {},
   "source": [
    "*** ***"
   ]
  },
  {
   "cell_type": "markdown",
   "metadata": {},
   "source": [
    "**Import standard packages**"
   ]
  },
  {
   "cell_type": "code",
   "execution_count": 1,
   "metadata": {},
   "outputs": [],
   "source": [
    "import numpy as np\n",
    "import pandas as pd\n",
    "import matplotlib.pyplot as plt\n",
    "import seaborn as sns\n",
    "import os\n",
    "from pandasql import sqldf\n",
    "import statistics\n",
    "\n",
    "pysqldf = lambda q: sqldf(q, globals())\n",
    "%matplotlib inline"
   ]
  },
  {
   "cell_type": "markdown",
   "metadata": {},
   "source": [
    "**Import the data to be used for this project from external CSV files in *data* directory**"
   ]
  },
  {
   "cell_type": "code",
   "execution_count": 2,
   "metadata": {},
   "outputs": [],
   "source": [
    "# basic film data from IMDb\n",
    "path = os.path.join('data','imdb.title.basics.csv')\n",
    "imdb_title_basics = pd.read_csv(path)\n",
    "\n",
    "# film review data from IMDb\n",
    "path = os.path.join('data','imdb.title.ratings.csv')\n",
    "imdb_title_ratings = pd.read_csv(path)\n",
    "\n",
    "# basic film data from Rotten Tomatoes\n",
    "path = os.path.join('data','rt.movie_info.tsv')\n",
    "rt_movie_info = pd.read_csv(path, delimiter = '\\t')\n",
    "\n",
    "# film review data from Rotten Tomatoes\n",
    "path = os.path.join('data','rt.reviews.tsv')\n",
    "rt_reviews = pd.read_csv(path, delimiter = '\\t', encoding= 'unicode_escape')\n",
    "\n",
    "# full dataset from TMDb (The Movie Database)\n",
    "# largely used for popularity ratings\n",
    "path = os.path.join('data','tmdb.movies.csv')\n",
    "tmdb_movies = pd.read_csv(path)\n",
    "\n",
    "# budget data from The Numbers\n",
    "path = os.path.join('data','tn.movie_budgets.csv')\n",
    "tn_movie_budgets = pd.read_csv(path)\n",
    "\n",
    "# top director metrics from The Numbers\n",
    "path = os.path.join('data', 'tn.top_directors.csv')\n",
    "tn_top_directors = pd.read_csv(path, encoding= 'unicode_escape') \n",
    "# source: https://www.the-numbers.com/box-office-star-records/worldwide/lifetime-specific-technical-role/director"
   ]
  },
  {
   "cell_type": "markdown",
   "metadata": {},
   "source": [
    "**Basic data cleaning necessary for remainder of analysis**"
   ]
  },
  {
   "cell_type": "code",
   "execution_count": 3,
   "metadata": {},
   "outputs": [],
   "source": [
    "# Clean data from Rotten Tomatoes\n",
    "# external csv files contain a simple map between current data and\n",
    "# reformatted data that can be used later in the analysis\n",
    "\n",
    "# import Studio cleaning dictionary\n",
    "path = os.path.join('cleaning_dicts','rt_studios.csv')\n",
    "df = pd.read_csv(path)\n",
    "studio_cleanup = dict(zip(df.old, df.new))\n",
    "\n",
    "# import Ratings cleaning dictionary\n",
    "path = os.path.join('cleaning_dicts','rt_ratings.csv')\n",
    "df = pd.read_csv(path)\n",
    "rating_cleanup = dict(zip(df.old, df.new))\n",
    "\n",
    "# apply cleaning dictionary and drop unused columns\n",
    "rt_reviews['rating'] = rt_reviews['rating'].map(rating_cleanup)\n",
    "\n",
    "# convert Fresh/Rotten column to binary 1/0 (i.e. good/bad)\n",
    "rt_reviews['fresh'] = rt_reviews['fresh'].map({'fresh':1, 'rotten':0})\n",
    "\n",
    "# converts \"None\" values/types to NaN for easier manipulation later\n",
    "imdb_title_basics.fillna(value=np.nan, inplace=True)\n",
    "imdb_title_ratings.fillna(value=np.nan, inplace=True)\n",
    "tmdb_movies.fillna(value=np.nan, inplace=True)\n",
    "tn_movie_budgets.fillna(value=np.nan, inplace=True)"
   ]
  },
  {
   "cell_type": "code",
   "execution_count": 4,
   "metadata": {},
   "outputs": [],
   "source": [
    "# Drop unused columns for simplicity downstream\n",
    "\n",
    "rt_movie_info.drop(['synopsis', 'runtime', 'rating', 'dvd_date', \n",
    "                    'currency', 'rating', 'theater_date', 'writer'], \n",
    "                     axis=1, inplace=True)\n",
    "\n",
    "rt_reviews.drop(['review', 'publisher', 'critic', 'top_critic', 'date'], \n",
    "                axis=1, inplace=True)\n",
    "\n",
    "imdb_title_basics.drop(['original_title', 'start_year', 'runtime_minutes']\n",
    "                       , axis=1, inplace=True)\n",
    "\n",
    "tmdb_movies.drop(['Unnamed: 0', 'original_title', 'id', \n",
    "                  'original_language', 'genre_ids', 'vote_average',\n",
    "                  'vote_count', 'release_date'], axis=1, inplace=True)\n",
    "\n",
    "tn_movie_budgets.drop(['id', 'release_date'], axis=1, inplace=True)"
   ]
  },
  {
   "cell_type": "markdown",
   "metadata": {},
   "source": [
    "**Clean financial data**"
   ]
  },
  {
   "cell_type": "code",
   "execution_count": 5,
   "metadata": {},
   "outputs": [],
   "source": [
    "# All relevant financial data is stored in The Numbers database\n",
    "# rename to make analysis easier to follow\n",
    "finance = tn_movie_budgets.copy()\n",
    "\n",
    "\n",
    "# for numbers: remove '$' and ',' then convert to float\n",
    "production_budget = [float(x.replace('$', '').replace(',',''))\n",
    "                     for x in finance['production_budget']] \n",
    "domestic_gross = [float(x.replace('$', '').replace(',','')) \n",
    "                  for x in finance['domestic_gross']]\n",
    "worldwide_gross = [float(x.replace('$', '').replace(',','')) \n",
    "                   for x in finance['worldwide_gross']]\n",
    "\n",
    "\n",
    "# input recently cleaned data back into finance dataframe\n",
    "finance['production_budget'] = production_budget\n",
    "finance['domestic_gross'] = domestic_gross\n",
    "finance['worldwide_gross'] = worldwide_gross\n",
    "\n",
    "# calculate profit as gross revenue minus production budget\n",
    "finance['profit'] = finance['worldwide_gross'] - finance['production_budget']"
   ]
  },
  {
   "cell_type": "markdown",
   "metadata": {},
   "source": [
    "**Clean Genre data**"
   ]
  },
  {
   "cell_type": "code",
   "execution_count": 6,
   "metadata": {},
   "outputs": [],
   "source": [
    "# The original formatting of genre data shows multiple genres  \n",
    "# in each genre cell for selected movies (corresponding to \n",
    "# movies classified in multiple genres). The are separated by \n",
    "# commas. The below analysis instead creates a distinct column\n",
    "# for each genre and represents the data as binary 1 or 0 to \n",
    "# indicate whether a given film is classified within that genre.\n",
    "\n",
    "genres_messy = imdb_title_basics['genres'].dropna().unique()\n",
    "genres_clean = []\n",
    "\n",
    "for g in genres_messy:\n",
    "    for g_split in g.split(','):\n",
    "        genres_clean.append(g_split)\n",
    "\n",
    "# remove duplicates\n",
    "genres_clean = list(set(genres_clean))\n",
    "\n",
    "\n",
    "\n",
    "#create dataframe containing only genre data for each film\n",
    "df = imdb_title_basics\n",
    "binary_genres = df.loc[df['genres'].isna() == False].copy()\n",
    "\n",
    "# create a column for each genre\n",
    "# assign a binary 1/0 for the film's genre classification\n",
    "for col in genres_clean:\n",
    "    binary_genres[col] = [col in x for x in binary_genres['genres']]"
   ]
  },
  {
   "cell_type": "markdown",
   "metadata": {},
   "source": [
    "*** ***"
   ]
  },
  {
   "cell_type": "markdown",
   "metadata": {},
   "source": [
    "**Aggregate data to create one DataFrame containing everything used in the remainder of the analysis**"
   ]
  },
  {
   "cell_type": "code",
   "execution_count": 7,
   "metadata": {},
   "outputs": [],
   "source": [
    "# Use SQL to join sources of data to create cohesive and\n",
    "# comprehensive dataset\n",
    "\n",
    "# renaming now makes the SQL join cleaner\n",
    "finance = finance.rename(columns = {'movie': 'primary_title'})\n",
    "tmdb_movies = tmdb_movies.rename(columns = {'title': 'primary_title'})\n",
    "\n",
    "# write query\n",
    "q = ''' SELECT * FROM imdb_title_basics\n",
    "LEFT JOIN finance USING (primary_title) \n",
    "LEFT JOIN tmdb_movies USING (primary_title)\n",
    "LEFT JOIN binary_genres USING (tconst);'''\n",
    "\n",
    "# Use SQL to join relevant dataframes\n",
    "all_data = pysqldf(q)\n",
    "all_data.drop(['primary_title', 'genres'], axis=1, inplace=True)"
   ]
  },
  {
   "cell_type": "markdown",
   "metadata": {},
   "source": [
    "## Data Analysis\n",
    "\n",
    "[DESCRIPTION HERE OF STEPS TO COME]"
   ]
  },
  {
   "cell_type": "markdown",
   "metadata": {},
   "source": [
    "### Data breakdown by Genre to gain an understanding of how film performance varies across genres\n",
    "\n",
    "Start with creating an empty dataframe.\n",
    "\n",
    "Note that the mean is used for popularity metrics given that they are on a 10-point scale, thus eliminating the possibility of outliers. The median is used in areas where outliers are prevalent."
   ]
  },
  {
   "cell_type": "code",
   "execution_count": 8,
   "metadata": {},
   "outputs": [],
   "source": [
    "# Create dataframe as the base for aggregating data \n",
    "# on a per-genre basis into one dataframe\n",
    "\n",
    "df_genres = pd.DataFrame(genres_clean)\n",
    "df_genres.columns = ['genre']\n",
    "df_genres.sort_values(by='genre', inplace=True)\n",
    "df_genres.reset_index(inplace=True, drop=True)"
   ]
  },
  {
   "cell_type": "markdown",
   "metadata": {},
   "source": [
    "**Add financial performance data**"
   ]
  },
  {
   "cell_type": "code",
   "execution_count": 9,
   "metadata": {},
   "outputs": [],
   "source": [
    "# Calculate the mean and median profit for each genre\n",
    "profit_median = []\n",
    "profit_mean = []\n",
    "for g in genres_clean:\n",
    "    profit = all_data.loc[(all_data['profit'].isna() == False) &\n",
    "                          (all_data[g] == True), 'profit']\n",
    "    profit_median.append(profit.median())\n",
    "    profit_mean.append(profit.mean())\n",
    "     \n",
    "df_genres['profit_median'] = profit_median\n",
    "df_genres['profit_mean'] = profit_mean\n",
    "\n",
    "# Add column to rank the median profit of each genre\n",
    "df_genres.sort_values(by='profit_median', ascending=False, inplace=True)\n",
    "rank = df_genres.reset_index(drop=True).index\n",
    "df_genres['profit_rank'] = list(rank)"
   ]
  },
  {
   "cell_type": "markdown",
   "metadata": {},
   "source": [
    "**Add popularity metrics**"
   ]
  },
  {
   "cell_type": "code",
   "execution_count": 10,
   "metadata": {},
   "outputs": [],
   "source": [
    "# Calculate the mean and median popularity for each genre\n",
    "pop_median = []\n",
    "pop_mean = []\n",
    "for g in genres_clean:\n",
    "    pop = all_data.loc[(all_data['popularity'].isna() == False) &\n",
    "                       (all_data[g] == True), 'popularity']\n",
    "    pop_median.append(pop.median())\n",
    "    pop_mean.append(pop.mean())\n",
    "    \n",
    "df_genres['popularity_median'] = pop_median\n",
    "df_genres['popularity_mean'] = pop_mean\n",
    "\n",
    "\n",
    "# Add column to rank the median popularity of each genre\n",
    "df_genres.sort_values(by='popularity_mean', ascending=False, inplace=True)\n",
    "rank = df_genres.reset_index(drop=True).index\n",
    "df_genres['popularity_rank'] = list(rank)"
   ]
  },
  {
   "cell_type": "markdown",
   "metadata": {},
   "source": [
    "**Add metric for the number of movies in each genre**"
   ]
  },
  {
   "cell_type": "code",
   "execution_count": 11,
   "metadata": {},
   "outputs": [],
   "source": [
    "# Calculate the total number of movies belonging to each genre\n",
    "movie_ct = []\n",
    "for g in genres_clean:\n",
    "    ct = all_data.loc[(all_data[g] == True), g]\n",
    "    movie_ct.append(ct.sum())\n",
    "\n",
    "# add column with count data\n",
    "df_genres['movie_ct'] = movie_ct\n",
    "df_genres.dropna(inplace=True)"
   ]
  },
  {
   "cell_type": "markdown",
   "metadata": {},
   "source": [
    "**Remove genres that have very few movies, as it is an indicator of an overall small demand for films in that genre**"
   ]
  },
  {
   "cell_type": "code",
   "execution_count": 12,
   "metadata": {},
   "outputs": [],
   "source": [
    "MIN_MOVIE_CT = 2000\n",
    "\n",
    "df_genres = df_genres.loc[df_genres['movie_ct'] > MIN_MOVIE_CT].copy()\n",
    "df_genres.sort_values(by='movie_ct', inplace=True)"
   ]
  },
  {
   "cell_type": "markdown",
   "metadata": {},
   "source": [
    "**Determine the most successful genres overall**\n",
    "\n",
    "Consider both profitability and popularity to determine which genres are most lucrative. "
   ]
  },
  {
   "cell_type": "code",
   "execution_count": 29,
   "metadata": {},
   "outputs": [],
   "source": [
    "# From the start, exclude movies that are relatively poorly\n",
    "# ranked in terms of profit or popularity.\n",
    "\n",
    "# These numbers are based on a close, manual analysis of the \n",
    "# data. Future studies will use statistical methods instead. \n",
    "min_profitrank = 20\n",
    "min_poprank = 20\n",
    "num_to_include_in_leaders = 4\n",
    "\n",
    "leading_genres = df_genres.loc[(df_genres['profit_rank'] <= min_profitrank)].copy()\n",
    "leading_genres = df_genres.loc[(df_genres['popularity_rank'] <= min_poprank)].copy()\n",
    "leading_genres.sort_values(by='popularity_mean', ascending=False, inplace=True)\n",
    "leading_genres = leading_genres.iloc[:num_to_include_in_leaders].copy()"
   ]
  },
  {
   "cell_type": "code",
   "execution_count": 30,
   "metadata": {},
   "outputs": [],
   "source": [
    "# Isolate the genres that are *not* leaders\n",
    "\n",
    "trailing_genres = df_genres.copy()\n",
    "\n",
    "for g in list(df_genres['genre']):\n",
    "    if g in list(leading_genres['genre']):\n",
    "        x = df_genres.loc[df_genres.genre == g].index\n",
    "        trailing_genres.drop(index=x, inplace=True)\n",
    "\n",
    "# Use the below analysis to determine an aggregate\n",
    "# valuation of genres that are *not* in the top performers\n",
    "# as a means of comparison\n",
    "\n",
    "pop_agg = []\n",
    "profit_agg = []\n",
    "ct = 0\n",
    "\n",
    "for g in list(trailing_genres['genre']):\n",
    "    pop = all_data.loc[(all_data['popularity'].isna() == False) & \n",
    "                       (all_data[g] == True), 'popularity']\n",
    "    pop_agg.append(list(pop))\n",
    "\n",
    "    profit = all_data.loc[(all_data['profit'].isna() == False) &\n",
    "                          (all_data[g] == True), 'profit']\n",
    "    profit_agg.append(list(profit))\n",
    "\n",
    "    ct += len(all_data.loc[(all_data['tconst'].isna() == False) & \n",
    "                           (all_data[g] == True), 'tconst'])\n",
    "\n",
    "# currently formatted as lists of lists. Make into one list instead,\n",
    "# then calculate key metrics\n",
    "profit_flat = [val for sublist in profit_agg for val in sublist]\n",
    "profit_median = statistics.median(profit_flat)\n",
    "profit_mean = statistics.mean(profit_flat)\n",
    "    \n",
    "# currently formatted as lists of lists. Make into one list instead,\n",
    "# then calculate key metrics    \n",
    "pop_flat = [val for sublist in pop_agg for val in sublist]\n",
    "pop_median = statistics.median(pop_flat)\n",
    "pop_mean = statistics.mean(pop_flat)\n",
    "rank = leading_genres.profit_rank.max() + 1\n",
    "\n",
    "# add an \"All Others\" category to be plotted alongside top performers\n",
    "leading_genres = leading_genres.append({'genre': 'All Others',\n",
    "                       'profit_median': profit_median,\n",
    "                       'profit_mean': profit_mean,\n",
    "                       'profit_rank': rank,\n",
    "                       'popularity_median': pop_median,\n",
    "                       'popularity_mean':pop_mean,\n",
    "                       'popularity_rank':rank,\n",
    "                       'movie_ct': ct}, ignore_index=True)"
   ]
  },
  {
   "cell_type": "code",
   "execution_count": 31,
   "metadata": {},
   "outputs": [
    {
     "data": {
      "text/html": [
       "<div>\n",
       "<style scoped>\n",
       "    .dataframe tbody tr th:only-of-type {\n",
       "        vertical-align: middle;\n",
       "    }\n",
       "\n",
       "    .dataframe tbody tr th {\n",
       "        vertical-align: top;\n",
       "    }\n",
       "\n",
       "    .dataframe thead th {\n",
       "        text-align: right;\n",
       "    }\n",
       "</style>\n",
       "<table border=\"1\" class=\"dataframe\">\n",
       "  <thead>\n",
       "    <tr style=\"text-align: right;\">\n",
       "      <th></th>\n",
       "      <th>genre</th>\n",
       "      <th>profit_median</th>\n",
       "      <th>profit_mean</th>\n",
       "      <th>profit_rank</th>\n",
       "      <th>popularity_median</th>\n",
       "      <th>popularity_mean</th>\n",
       "      <th>popularity_rank</th>\n",
       "      <th>movie_ct</th>\n",
       "    </tr>\n",
       "  </thead>\n",
       "  <tbody>\n",
       "    <tr>\n",
       "      <th>4</th>\n",
       "      <td>All Others</td>\n",
       "      <td>11827794.0</td>\n",
       "      <td>6.905365e+07</td>\n",
       "      <td>14</td>\n",
       "      <td>2.0975</td>\n",
       "      <td>4.286417</td>\n",
       "      <td>14</td>\n",
       "      <td>89236.0</td>\n",
       "    </tr>\n",
       "    <tr>\n",
       "      <th>3</th>\n",
       "      <td>Action</td>\n",
       "      <td>14947510.0</td>\n",
       "      <td>4.588240e+07</td>\n",
       "      <td>9</td>\n",
       "      <td>3.0990</td>\n",
       "      <td>5.194202</td>\n",
       "      <td>5</td>\n",
       "      <td>9765.0</td>\n",
       "    </tr>\n",
       "    <tr>\n",
       "      <th>2</th>\n",
       "      <td>Documentary</td>\n",
       "      <td>8462398.0</td>\n",
       "      <td>1.288383e+08</td>\n",
       "      <td>13</td>\n",
       "      <td>2.3780</td>\n",
       "      <td>5.539034</td>\n",
       "      <td>4</td>\n",
       "      <td>6462.0</td>\n",
       "    </tr>\n",
       "    <tr>\n",
       "      <th>1</th>\n",
       "      <td>Animation</td>\n",
       "      <td>11507410.0</td>\n",
       "      <td>5.656655e+07</td>\n",
       "      <td>11</td>\n",
       "      <td>3.7480</td>\n",
       "      <td>6.619390</td>\n",
       "      <td>3</td>\n",
       "      <td>6376.0</td>\n",
       "    </tr>\n",
       "    <tr>\n",
       "      <th>0</th>\n",
       "      <td>Adventure</td>\n",
       "      <td>57375039.0</td>\n",
       "      <td>1.904184e+08</td>\n",
       "      <td>2</td>\n",
       "      <td>4.4065</td>\n",
       "      <td>7.857636</td>\n",
       "      <td>0</td>\n",
       "      <td>4940.0</td>\n",
       "    </tr>\n",
       "  </tbody>\n",
       "</table>\n",
       "</div>"
      ],
      "text/plain": [
       "         genre  profit_median   profit_mean  profit_rank  popularity_median  \\\n",
       "4   All Others     11827794.0  6.905365e+07           14             2.0975   \n",
       "3       Action     14947510.0  4.588240e+07            9             3.0990   \n",
       "2  Documentary      8462398.0  1.288383e+08           13             2.3780   \n",
       "1    Animation     11507410.0  5.656655e+07           11             3.7480   \n",
       "0    Adventure     57375039.0  1.904184e+08            2             4.4065   \n",
       "\n",
       "   popularity_mean  popularity_rank  movie_ct  \n",
       "4         4.286417               14   89236.0  \n",
       "3         5.194202                5    9765.0  \n",
       "2         5.539034                4    6462.0  \n",
       "1         6.619390                3    6376.0  \n",
       "0         7.857636                0    4940.0  "
      ]
     },
     "execution_count": 31,
     "metadata": {},
     "output_type": "execute_result"
    }
   ],
   "source": [
    "leading_genres.sort_values(by='popularity_mean')"
   ]
  },
  {
   "cell_type": "markdown",
   "metadata": {},
   "source": [
    "### Plot findings: how do the genres compare?"
   ]
  },
  {
   "cell_type": "code",
   "execution_count": 71,
   "metadata": {},
   "outputs": [
    {
     "data": {
      "image/png": "[encoded data removed]",
      "text/plain": [
       "<Figure size 720x504 with 1 Axes>"
      ]
     },
     "metadata": {
      "needs_background": "light"
     },
     "output_type": "display_data"
    }
   ],
   "source": [
    "leading_genres.sort_values(by='popularity_mean', \n",
    "                           ascending=False, inplace=True)\n",
    "\n",
    "\n",
    "x = leading_genres['genre']\n",
    "y = leading_genres['popularity_mean']\n",
    "\n",
    "f, ax = plt.subplots(1, 1, figsize=(10, 7), sharex=True)\n",
    "sns.set_context('talk') \n",
    "sns.set_palette(\"Reds_r\")\n",
    "sns.barplot(data = leading_genres, \n",
    "            y = 'genre', \n",
    "            x = 'popularity_mean', \n",
    "            ax=ax, \n",
    "            palette='Reds_r', orient='h')\n",
    "plt.ylabel('')\n",
    "plt.xlabel('Popularity')\n",
    "ax.set(xlim=(0,10))\n",
    "ax.set_title('Popular Success of Leading Genres')\n",
    "plt.savefig('images/Popular Success of Leading Genres.png')\n",
    "plt.show()"
   ]
  },
  {
   "cell_type": "markdown",
   "metadata": {},
   "source": [
    "### Now that we know what is popular, how does popularity affect the profitability of a film?"
   ]
  },
  {
   "cell_type": "code",
   "execution_count": 69,
   "metadata": {},
   "outputs": [
    {
     "data": {
      "text/plain": [
       "Text(0.5, 1.0, 'Correlation between popularity and profit')"
      ]
     },
     "execution_count": 69,
     "metadata": {},
     "output_type": "execute_result"
    },
    {
     "data": {
      "image/png": "[encoded data removed]",
      "text/plain": [
       "<Figure size 432x288 with 2 Axes>"
      ]
     },
     "metadata": {
      "needs_background": "light"
     },
     "output_type": "display_data"
    }
   ],
   "source": [
    "# This portion of the analysis takes a subset of the full movie database,\n",
    "# specifically, those within the target genres, and investigates the\n",
    "# relationship between profitability and popularity.\n",
    "\n",
    "# Create a dataframe based off the full dataset\n",
    "df = all_data.dropna().copy()\n",
    "\n",
    "# Gather lists of the profit and popularity values for every\n",
    "# film within the leading genres\n",
    "prof = []\n",
    "pop = []\n",
    "for g in list(leading_genres.genre):\n",
    "    if g == 'All Others':\n",
    "        pass\n",
    "    else:\n",
    "        x = df.loc[df[g]==True]\n",
    "        prof.append(list(x['profit']))\n",
    "        pop.append(list(x['popularity']))\n",
    "\n",
    "        \n",
    "# currently formatted as lists of lists. Make each pop and prof\n",
    "# into their own single-layer lists instead\n",
    "prof_flat = [val for sublist in prof for val in sublist]\n",
    "pop_flat = [val for sublist in pop for val in sublist]\n",
    "\n",
    " \n",
    "# remove profit outliers by calculating the std dev and median\n",
    "profit_std = statistics.pstdev(prof_flat)\n",
    "profit_med = statistics.median(prof_flat)\n",
    "profit_lo = profit_med - 3 * profit_std\n",
    "profit_hi = profit_med + 3 * profit_std\n",
    "prof_outlier = df.loc[(df['profit'] > profit_hi) | \n",
    "            (df['profit'] < profit_lo)]\n",
    "\n",
    "# remove popularity outliers by calculating the std dev and median\n",
    "pop_std = statistics.pstdev(pop_flat)\n",
    "pop_med = statistics.median(pop_flat)\n",
    "pop_lo = pop_med - 3 * pop_std\n",
    "pop_hi = pop_med + 3 * pop_std\n",
    "pop_outlier = df.loc[(df['popularity'] > pop_hi) | \n",
    "            (df['popularity'] < pop_lo)]\n",
    "\n",
    "# remove outliers from the dataset\n",
    "df = df.drop(pop_outlier.index.append(prof_outlier.index)).copy()\n",
    "df = df[['profit', 'popularity']].copy()\n",
    "\n",
    "# plot\n",
    "corrMatrix = df.corr()\n",
    "sns.heatmap(corrMatrix, annot=True)\n",
    "plt.title(\"Correlation between popularity and profit\", fontsize=15)"
   ]
  },
  {
   "cell_type": "markdown",
   "metadata": {},
   "source": [
    "**Plot the relationship between popularity and profitability for the selected leading genres**"
   ]
  },
  {
   "cell_type": "code",
   "execution_count": 70,
   "metadata": {
    "scrolled": true
   },
   "outputs": [
    {
     "data": {
      "image/png": "[encoded data removed]",
      "text/plain": [
       "<Figure size 720x504 with 1 Axes>"
      ]
     },
     "metadata": {
      "needs_background": "light"
     },
     "output_type": "display_data"
    }
   ],
   "source": [
    "x = df['popularity']\n",
    "y = df['profit']/10**6\n",
    "\n",
    "sns.set_context('talk') \n",
    "sns.set_palette(\"Reds_r\")\n",
    "f, ax = plt.subplots(1, 1, figsize=(10, 7), sharex=True)\n",
    "\n",
    "sns.regplot(x=x, y=y, ax=ax)\n",
    "plt.xlabel('Popularity Rating')\n",
    "plt.ylabel('Movie Profit (Million $)')\n",
    "ax.set_title('Effect of Popularity on Financial Success')\n",
    "plt.savefig('images/Effect of Popularity on Financial Success.png')\n",
    "plt.show()"
   ]
  },
  {
   "cell_type": "markdown",
   "metadata": {},
   "source": [
    "## Analyzing the impact of Director selection"
   ]
  },
  {
   "cell_type": "code",
   "execution_count": 28,
   "metadata": {},
   "outputs": [],
   "source": [
    "##### CALCULATE THE AVERAGE 'FRESH' RATING FOR EACH MOVIE ID\n",
    "MINIMUM_FRESHOMETER = 5 #minimum number of reviews to be considered\n",
    "\n",
    "\n",
    "freshness = pd.DataFrame([rt_reviews.id.unique()], index=['id']).transpose()\n",
    "#rating =    pd.DataFrame([rt_reviews.id.unique()], index=['id']).transpose().copy()\n",
    "for movie_id in freshness['id']:\n",
    "    fresh =  rt_reviews.loc[rt_reviews['id'] == movie_id, 'fresh']\n",
    "    rating = rt_reviews.loc[rt_reviews['id'] == movie_id, 'rating']\n",
    "    #if rt_reviews.loc[rt_reviews['id'] == movie_id, 'fresh'].size >= MINIMUM_FRESHOMETER:\n",
    "    freshness.loc[freshness['id'] == movie_id, 'fresh'] = fresh.mean() #INDENTED\n",
    "    freshness.loc[freshness['id'] == movie_id, 'rating'] = rating.mean()#INDENTED\n",
    "#freshness = freshness.dropna()\n",
    "rating = rating#.dropna()\n",
    "\n",
    "\n",
    "# rt['box_office'] = rt['box_office'].str.replace(',','')\n",
    "# rt['box_office'] = [float(x) for x in rt['box_office']]\n",
    "# rt['studio'] = rt['studio'].map(STUDIO_CLEANUP_DICT).fillna(rt['studio'])"
   ]
  },
  {
   "cell_type": "code",
   "execution_count": 19,
   "metadata": {
    "scrolled": true
   },
   "outputs": [
    {
     "data": {
      "image/png": "[encoded data removed]",
      "text/plain": [
       "<Figure size 432x288 with 2 Axes>"
      ]
     },
     "metadata": {
      "needs_background": "light"
     },
     "output_type": "display_data"
    }
   ],
   "source": [
    "# --- CORRELATION BETWEEN TWO POPULARITY METRICS ---\n",
    "rt = pysqldf(''' \n",
    "SELECT * FROM rt_movie_info\n",
    "LEFT JOIN freshness USING (id);''')\n",
    "\n",
    "# convert \"None\" values/types to NaN for easier manipulation and consistency\n",
    "rt.fillna(value=np.nan, inplace=True) \n",
    "\n",
    "\n",
    "columns = {'id', 'rating', 'fresh'}\n",
    "freshness = pd.DataFrame(columns=columns)\n",
    "ids = rt_reviews.id.unique()\n",
    "\n",
    "for id_ in ids:\n",
    "    same_id = (rt_reviews['id'] == id_)\n",
    "    \n",
    "    fresh = rt_reviews.loc[same_id, 'fresh'].median()\n",
    "    rating = rt_reviews.loc[same_id, 'rating'].median()\n",
    "    #box_office_sum = rt.loc[same_studio, 'box_office'].sum()\n",
    "    #box_office_median = rt.loc[same_studio, 'box_office'].median()\n",
    "    #movie_ct = rt.loc[same_studio, 'studio'].size\n",
    "    \n",
    "    new_row = {'id': id_, \n",
    "               'fresh': fresh, \n",
    "               'rating': rating}\n",
    "\n",
    "    freshness = freshness.append([new_row])\n",
    "    \n",
    "freshness.fresh.unique()\n",
    "\n",
    "corrMatrix = freshness[['fresh', 'rating']].corr()\n",
    "sns.heatmap(corrMatrix, annot=True)\n",
    "plt.title(\"Correlation between two 'popularity' metrics\", fontsize=15)\n",
    "plt.show()"
   ]
  },
  {
   "cell_type": "code",
   "execution_count": 20,
   "metadata": {},
   "outputs": [
    {
     "data": {
      "text/plain": [
       "<function matplotlib.pyplot.show(*args, **kw)>"
      ]
     },
     "execution_count": 20,
     "metadata": {},
     "output_type": "execute_result"
    },
    {
     "data": {
      "image/png": "[encoded data removed]",
      "text/plain": [
       "<Figure size 432x288 with 2 Axes>"
      ]
     },
     "metadata": {
      "needs_background": "light"
     },
     "output_type": "display_data"
    }
   ],
   "source": [
    "##### CREATE DATAFRAME CONTAINING METRICS FOR SUCCESSFUL STUDIOS #####\n",
    "MIN_FILMS = 5\n",
    "\n",
    "columns = {'studio', 'box_office_median', 'box_office_sum', 'movie_ct', 'fresh'}\n",
    "df_studios = pd.DataFrame(columns=columns)\n",
    "\n",
    "studios = rt['studio'].unique()[1:]\n",
    "for studio in studios:\n",
    "    same_studio = (rt['studio'] == studio)\n",
    "\n",
    "    fresh = rt.loc[same_studio, 'fresh'].median()\n",
    "    box_office_sum = rt.loc[same_studio, 'box_office'].sum()\n",
    "    box_office_median = rt.loc[same_studio, 'box_office'].median()\n",
    "    movie_ct = rt.loc[same_studio, 'studio'].size\n",
    "    \n",
    "    new_row = {'studio': studio, \n",
    "               'fresh': fresh, \n",
    "               'box_office_median': box_office_median, \n",
    "               'box_office_sum': box_office_sum, \n",
    "               'movie_ct': movie_ct}\n",
    "\n",
    "    df_studios = df_studios.append([new_row])\n",
    "    \n",
    "df_studios = df_studios.loc[df_studios['movie_ct']>=MIN_FILMS].copy()\n",
    "df_studios.head(3)\n",
    "\n",
    "df = df_studios.drop('studio', axis=1)\n",
    "corrMatrix = df.corr()\n",
    "sns.heatmap(corrMatrix, annot=True)\n",
    "plt.title(\"Correlation between various studio metrics\", fontsize=15)\n",
    "plt.show"
   ]
  },
  {
   "cell_type": "code",
   "execution_count": 21,
   "metadata": {},
   "outputs": [
    {
     "data": {
      "text/plain": [
       "Steven Spielberg    10\n",
       "Clint Eastwood       8\n",
       "William Friedkin     4\n",
       "Jim Jarmusch         4\n",
       "Bruce Beresford      4\n",
       "William Beaudine     4\n",
       "Alfred Hitchcock     4\n",
       "George Cukor         4\n",
       "Ridley Scott         4\n",
       "Curtis Hanson        4\n",
       "dtype: int64"
      ]
     },
     "execution_count": 21,
     "metadata": {},
     "output_type": "execute_result"
    }
   ],
   "source": [
    "##### ANALYZE DATA BY DIRECTOR #####\n",
    "\n",
    "#Import cleanup dictionary\n",
    "path = os.path.join('cleaning_dicts','cleaning_lookup_rt_directors.csv')\n",
    "director_cleanup = pd.read_csv(path)\n",
    "DIRECTOR_CLEANUP_DICT = dict(zip(director_cleanup.old, director_cleanup.new))\n",
    "\n",
    "#Apply cleaning dictionary\n",
    "director = df_rt['director']\n",
    "rt['director'] = director.map(DIRECTOR_CLEANUP_DICT).fillna(director)\n",
    "\n",
    "director_counts_dict = {}\n",
    "directors = rt['director'].loc[rt['director'].isna()==False]\n",
    "for name in directors:\n",
    "    for name_split in name.split(sep = '|'):\n",
    "        if name_split in director_counts_dict.keys():\n",
    "            director_counts_dict[name_split] += 1\n",
    "        else:\n",
    "            director_counts_dict[name_split] = 1\n",
    "\n",
    "director_counts_df = pd.Series(director_counts_dict).sort_values(ascending=False)\n",
    "\n",
    "director_counts_df.head(10)"
   ]
  },
  {
   "cell_type": "code",
   "execution_count": 25,
   "metadata": {},
   "outputs": [],
   "source": []
  },
  {
   "cell_type": "code",
   "execution_count": 29,
   "metadata": {},
   "outputs": [
    {
     "data": {
      "text/html": [
       "<div>\n",
       "<style scoped>\n",
       "    .dataframe tbody tr th:only-of-type {\n",
       "        vertical-align: middle;\n",
       "    }\n",
       "\n",
       "    .dataframe tbody tr th {\n",
       "        vertical-align: top;\n",
       "    }\n",
       "\n",
       "    .dataframe thead th {\n",
       "        text-align: right;\n",
       "    }\n",
       "</style>\n",
       "<table border=\"1\" class=\"dataframe\">\n",
       "  <thead>\n",
       "    <tr style=\"text-align: right;\">\n",
       "      <th></th>\n",
       "      <th>Top 5 Directors</th>\n",
       "    </tr>\n",
       "  </thead>\n",
       "  <tbody>\n",
       "    <tr>\n",
       "      <th>1</th>\n",
       "      <td>Steven Spielberg</td>\n",
       "    </tr>\n",
       "    <tr>\n",
       "      <th>2</th>\n",
       "      <td>Peter Jackson</td>\n",
       "    </tr>\n",
       "    <tr>\n",
       "      <th>3</th>\n",
       "      <td>Michael Bay</td>\n",
       "    </tr>\n",
       "    <tr>\n",
       "      <th>4</th>\n",
       "      <td>James Cameron</td>\n",
       "    </tr>\n",
       "    <tr>\n",
       "      <th>5</th>\n",
       "      <td>Christopher Nolan</td>\n",
       "    </tr>\n",
       "  </tbody>\n",
       "</table>\n",
       "</div>"
      ],
      "text/plain": [
       "     Top 5 Directors\n",
       "1   Steven Spielberg\n",
       "2      Peter Jackson\n",
       "3        Michael Bay\n",
       "4      James Cameron\n",
       "5  Christopher Nolan"
      ]
     },
     "execution_count": 29,
     "metadata": {},
     "output_type": "execute_result"
    },
    {
     "data": {
      "image/png": "[encoded data removed]",
      "text/plain": [
       "<Figure size 720x504 with 1 Axes>"
      ]
     },
     "metadata": {
      "needs_background": "light"
     },
     "output_type": "display_data"
    }
   ],
   "source": [
    "##### PERFORMANCE OF TOP DIRECTORS VS OTHERS #####\n",
    "\n",
    "top_directors = tn_top_directors\n",
    "\n",
    "MIN_MOVIE_CT = 1000\n",
    "NUMBER_TO_INCLUDE = 500\n",
    "OUT_OF_SERVICE = ['Clint Eastwood']\n",
    "\n",
    "for i, director in enumerate(OUT_OF_SERVICE):\n",
    "    index_director = top_directors.loc[top_directors.name==OUT_OF_SERVICE[i]].index\n",
    "    top_directors.drop(index=index_director, inplace=True)\n",
    "\n",
    "\n",
    "# only producers with production +1stddev from median performance\n",
    "# as this is an indicator of a bredth of experience relative to peers\n",
    "movies = tn_top_directors.movies\n",
    "MIN_MOVIE_CT = movies.std() + movies.median()\n",
    "top_directors = tn_top_directors.loc[tn_top_directors['movies'] > MIN_MOVIE_CT]\n",
    "\n",
    "# tiers \n",
    "t1 = 5\n",
    "t2 = 6\n",
    "t3 = 75\n",
    "t4 = 150\n",
    "\n",
    "tier1 = top_directors.iloc[0: t1]['average'].mean()/10**6\n",
    "tier2 = top_directors.iloc[t1: t2]['average'].mean()/10**6\n",
    "tier3 = top_directors.iloc[t2: t3]['average'].mean()/10**6\n",
    "tier4 = top_directors.iloc[t3:]['average'].mean()/10**6\n",
    "\n",
    "\n",
    "sns.set_context('talk') \n",
    "palette = sns.color_palette(\"Reds_r\")\n",
    "f, ax = plt.subplots(1, 1, figsize=(10, 7), sharex=True)\n",
    "\n",
    "x = [f'Top {t1}', \n",
    "     f'Top {t1+1} - {t2}', \n",
    "     f'Top {t2+1} - {t3}', \n",
    "     f'Top {t3+1} - {t4}']\n",
    "\n",
    "y = [tier1, tier2, tier3, tier4]\n",
    "\n",
    "sns.barplot(x=x, y=y, ax=ax, palette=palette)\n",
    "ax.axhline(0, color=\"k\", clip_on=False)\n",
    "ax.set_xlabel('Director Ranking by Past Performance')\n",
    "ax.set_ylabel(\"Median Profit per Movie (Million $)\")\n",
    "ax.set_title('Impact of Director Selection on Profit')\n",
    "sns.despine(bottom=True)\n",
    "plt.savefig('images/Impact of Director Selection on Profit.png')\n",
    "\n",
    "\n",
    "ct = 5\n",
    "table = top_directors[['name']].iloc[:ct]\n",
    "table.index = range(1,ct+1)\n",
    "table.columns = [f'Top {ct} Directors']\n",
    "table"
   ]
  },
  {
   "cell_type": "markdown",
   "metadata": {},
   "source": [
    "### Aggregate data from various sources to create one cohesive dataframe containing only relevant data"
   ]
  },
  {
   "cell_type": "markdown",
   "metadata": {},
   "source": [
    "# Notes From Call with Joel\n",
    "\n",
    "- Consider frequency that each genre is produced. \n",
    "\n",
    "- Is there anything in this data that says starting with high popularity could lead to later profitability?\n",
    "\n",
    "- If popularity is so vital, need to define more clearly how that is narrowed. Then, take a look at the most popular movies; profile these aspects to see \"what works\" and what doesn't\n",
    "\n",
    "- Consider budgets too since that is especially relevant to companies breaking into a market\n",
    "\n",
    "- Anything from Runtime?\n",
    "\n",
    "- Look into top actors -- this could be something they would \"need\" to have in new films\n",
    "\n",
    "- Try to create distinction between that the popular and unpopular factors are\n",
    "\n",
    "- Tell them \"what they should care about, and what they shouldn't care about\". Second point is less necessary, but can be helpful\n",
    "\n",
    "- Popular includes number of films produced in that genre, not just ratings\n",
    "\n",
    "- Also look at distributions of this data, not just median. The company will also care about the confidence interval for these calculations."
   ]
  },
  {
   "cell_type": "code",
   "execution_count": null,
   "metadata": {},
   "outputs": [],
   "source": []
  },
  {
   "cell_type": "code",
   "execution_count": 51,
   "metadata": {},
   "outputs": [
    {
     "data": {
      "text/plain": [
       "Text(0.5, 1.0, 'Correlation between popularity and profit')"
      ]
     },
     "execution_count": 51,
     "metadata": {},
     "output_type": "execute_result"
    },
    {
     "data": {
      "image/png": "[encoded data removed]",
      "text/plain": [
       "<Figure size 432x288 with 2 Axes>"
      ]
     },
     "metadata": {
      "needs_background": "light"
     },
     "output_type": "display_data"
    }
   ],
   "source": [
    "########## VERY HIGH CORRELATION AMONGST LEADING GENRES ##########\n",
    "\n",
    "tester = leading_genres[['profit_median', 'popularity_mean']].dropna()\n",
    "\n",
    "\n",
    "#try narrowing to selected genres\n",
    "\n",
    "\n",
    "profit_std = tester['profit_median'].std() \n",
    "profit_med = tester['profit_median'].median()\n",
    "profit_lo = profit_med - 3 * profit_std\n",
    "profit_hi = profit_med + 3 * profit_std\n",
    "\n",
    "ind1 = tester.loc[(tester['profit_median'] > profit_hi) | \n",
    "            (tester['profit_median'] < profit_lo)]\n",
    "\n",
    "\n",
    "pop_std = tester['popularity_mean'].std() \n",
    "pop_med = tester['popularity_mean'].median()\n",
    "pop_lo = pop_med - 3 * pop_std\n",
    "pop_hi = pop_med + 3 * pop_std\n",
    "\n",
    "ind2 = tester.loc[(tester['popularity_mean'] > pop_hi) | \n",
    "            (tester['popularity_mean'] < pop_lo)]\n",
    "\n",
    "stdrem = tester.drop(ind1.index.append(ind2.index))\n",
    "\n",
    "\n",
    "\n",
    "\n",
    "\n",
    "#corrMatrix = df_genres[['profit_median', 'popularity_median']].dropna().corr()\n",
    "corrMatrix = stdrem.dropna().corr()\n",
    "sns.heatmap(corrMatrix, annot=True)\n",
    "plt.title(\"Correlation between popularity and profit\", fontsize=15)"
   ]
  }
 ],
 "metadata": {
  "kernelspec": {
   "display_name": "Python 3",
   "language": "python",
   "name": "python3"
  },
  "language_info": {
   "codemirror_mode": {
    "name": "ipython",
    "version": 3
   },
   "file_extension": ".py",
   "mimetype": "text/x-python",
   "name": "python",
   "nbconvert_exporter": "python",
   "pygments_lexer": "ipython3",
   "version": "3.8.3"
  }
 },
 "nbformat": 4,
 "nbformat_minor": 4
}
