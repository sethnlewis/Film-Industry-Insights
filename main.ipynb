{
 "cells": [
  {
   "cell_type": "markdown",
   "metadata": {},
   "source": [
    "# Creating a Successful Movie Studio\n",
    "\n",
    "**Author:** Seth Schober"
   ]
  },
  {
   "cell_type": "markdown",
   "metadata": {},
   "source": [
    "## Overview\n",
    "*** ***\n",
    "[one paragraph overview of the project, including the business problem, data, methods, results and recommendations]"
   ]
  },
  {
   "cell_type": "markdown",
   "metadata": {},
   "source": [
    "## Business Problem\n",
    "\n",
    "*** ***\n",
    "Summary of the business problem you are trying to solve, and the data questions that you plan to answer to solve them.\n",
    "\n",
    "Questions to consider:\n",
    "* What are the business's pain points related to this project?\n",
    "* How did you pick the data analysis question(s) that you did?\n",
    "* Why are these questions important from a business perspective?"
   ]
  },
  {
   "cell_type": "markdown",
   "metadata": {},
   "source": [
    "## Data Understanding\n",
    "\n",
    "*** ***\n",
    "Describe the data being used for this project.\n",
    "\n",
    "Questions to consider:\n",
    "* Where did the data come from, and how do they relate to the data analysis questions?\n",
    "* What do the data represent? Who is in the sample and what variables are included?\n",
    "* What is the target variable?\n",
    "* What are the properties of the variables you intend to use?\n",
    "\n",
    "Also define basic acronyms used throughout (e.g. rt=rotten tomatoes)"
   ]
  },
  {
   "cell_type": "markdown",
   "metadata": {},
   "source": [
    "## Data Preparation\n",
    "\n",
    "\n",
    "\n",
    "*** ***\n",
    "Describe and justify the process for preparing the data for analysis.\n",
    "\n",
    "Questions to consider:\n",
    "* Were there variables you dropped or created?\n",
    "* How did you address missing values or outliers?\n",
    "* Why are these choices appropriate given the data and the business problem?"
   ]
  },
  {
   "cell_type": "markdown",
   "metadata": {},
   "source": [
    "*** ***"
   ]
  },
  {
   "cell_type": "markdown",
   "metadata": {},
   "source": [
    "**Import standard packages**"
   ]
  },
  {
   "cell_type": "code",
   "execution_count": 1,
   "metadata": {},
   "outputs": [],
   "source": [
    "import numpy as np\n",
    "import pandas as pd\n",
    "import matplotlib.pyplot as plt\n",
    "import seaborn as sns\n",
    "import os\n",
    "from pandasql import sqldf\n",
    "import statistics\n",
    "\n",
    "pysqldf = lambda q: sqldf(q, globals())\n",
    "%matplotlib inline"
   ]
  },
  {
   "cell_type": "markdown",
   "metadata": {},
   "source": [
    "**Import the data to be used for this project from external CSV files in *data* directory**"
   ]
  },
  {
   "cell_type": "code",
   "execution_count": 2,
   "metadata": {},
   "outputs": [],
   "source": [
    "# basic film data from IMDb\n",
    "path = os.path.join('data','imdb.title.basics.csv')\n",
    "imdb_title_basics = pd.read_csv(path)\n",
    "\n",
    "# film review data from IMDb\n",
    "path = os.path.join('data','imdb.title.ratings.csv')\n",
    "imdb_title_ratings = pd.read_csv(path)\n",
    "\n",
    "# basic film data from Rotten Tomatoes\n",
    "path = os.path.join('data','rt.movie_info.tsv')\n",
    "rt_movie_info = pd.read_csv(path, delimiter = '\\t')\n",
    "\n",
    "# film review data from Rotten Tomatoes\n",
    "path = os.path.join('data','rt.reviews.tsv')\n",
    "rt_reviews = pd.read_csv(path, delimiter = '\\t', encoding= 'unicode_escape')\n",
    "\n",
    "# full dataset from TMDb (The Movie Database)\n",
    "# largely used for popularity ratings\n",
    "path = os.path.join('data','tmdb.movies.csv')\n",
    "tmdb_movies = pd.read_csv(path)\n",
    "\n",
    "# budget data from The Numbers\n",
    "path = os.path.join('data','tn.movie_budgets.csv')\n",
    "tn_movie_budgets = pd.read_csv(path)\n",
    "\n",
    "# top director metrics from The Numbers\n",
    "path = os.path.join('data', 'tn.top_directors.csv')\n",
    "tn_top_directors = pd.read_csv(path, encoding= 'unicode_escape') \n",
    "# source: https://www.the-numbers.com/box-office-star-records/worldwide/lifetime-specific-technical-role/director"
   ]
  },
  {
   "cell_type": "markdown",
   "metadata": {},
   "source": [
    "**Basic data cleaning necessary for remainder of analysis**"
   ]
  },
  {
   "cell_type": "code",
   "execution_count": 3,
   "metadata": {},
   "outputs": [],
   "source": [
    "# Clean data from Rotten Tomatoes\n",
    "# external csv files contain a simple map between current data and\n",
    "# reformatted data that can be used later in the analysis\n",
    "\n",
    "# import Studio cleaning dictionary\n",
    "path = os.path.join('cleaning_dicts','rt_studios.csv')\n",
    "df = pd.read_csv(path)\n",
    "studio_cleanup = dict(zip(df.old, df.new))\n",
    "\n",
    "# import Ratings cleaning dictionary\n",
    "path = os.path.join('cleaning_dicts','rt_ratings.csv')\n",
    "df = pd.read_csv(path)\n",
    "rating_cleanup = dict(zip(df.old, df.new))\n",
    "\n",
    "\n",
    "path = os.path.join('cleaning_dicts','rt_directors.csv')\n",
    "df = pd.read_csv(path)\n",
    "director_cleanup = dict(zip(df.old, df.new))\n",
    "\n",
    "\n",
    "# apply cleaning dictionary and drop unused columns\n",
    "rt_reviews['rating'] = rt_reviews['rating'].map(rating_cleanup)\n",
    "rt_movie_info['studio'] = rt_movie_info['studio'].map(studio_cleanup).fillna(rt_movie_info['studio'])\n",
    "\n",
    "\n",
    "# convert Fresh/Rotten column to binary 1/0 (i.e. good/bad)\n",
    "rt_reviews['fresh'] = rt_reviews['fresh'].map({'fresh':1, 'rotten':0})\n",
    "\n",
    "# converts \"None\" values/types to NaN for easier manipulation later\n",
    "imdb_title_basics.fillna(value=np.nan, inplace=True)\n",
    "imdb_title_ratings.fillna(value=np.nan, inplace=True)\n",
    "tmdb_movies.fillna(value=np.nan, inplace=True)\n",
    "tn_movie_budgets.fillna(value=np.nan, inplace=True)\n",
    "rt_movie_info.fillna(value=np.nan, inplace=True)\n",
    "rt_reviews.fillna(value=np.nan, inplace=True)\n",
    "\n",
    "\n",
    "\n",
    "\n"
   ]
  },
  {
   "cell_type": "code",
   "execution_count": 4,
   "metadata": {},
   "outputs": [],
   "source": [
    "# Drop unused columns for simplicity downstream\n",
    "\n",
    "rt_movie_info.drop(['synopsis', 'runtime', 'rating', 'dvd_date', \n",
    "                    'currency', 'rating', 'theater_date', 'writer'], \n",
    "                     axis=1, inplace=True)\n",
    "\n",
    "rt_reviews.drop(['review', 'publisher', 'critic', 'top_critic', 'date'], \n",
    "                axis=1, inplace=True)\n",
    "\n",
    "imdb_title_basics.drop(['original_title', 'start_year', 'runtime_minutes']\n",
    "                       , axis=1, inplace=True)\n",
    "\n",
    "tmdb_movies.drop(['Unnamed: 0', 'original_title', 'id', \n",
    "                  'original_language', 'genre_ids', 'vote_average',\n",
    "                  'vote_count', 'release_date'], axis=1, inplace=True)\n",
    "\n",
    "tn_movie_budgets.drop(['id', 'release_date'], axis=1, inplace=True)"
   ]
  },
  {
   "cell_type": "markdown",
   "metadata": {},
   "source": [
    "**Clean financial data**"
   ]
  },
  {
   "cell_type": "code",
   "execution_count": 5,
   "metadata": {},
   "outputs": [],
   "source": [
    "# All relevant financial data is stored in The Numbers database\n",
    "# rename to make analysis easier to follow\n",
    "finance = tn_movie_budgets.copy()\n",
    "\n",
    "\n",
    "# for numbers: remove '$' and ',' then convert to float\n",
    "production_budget = [float(x.replace('$', '').replace(',',''))\n",
    "                     for x in finance['production_budget']] \n",
    "domestic_gross = [float(x.replace('$', '').replace(',','')) \n",
    "                  for x in finance['domestic_gross']]\n",
    "worldwide_gross = [float(x.replace('$', '').replace(',','')) \n",
    "                   for x in finance['worldwide_gross']]\n",
    "\n",
    "\n",
    "# input recently cleaned data back into finance dataframe\n",
    "finance['production_budget'] = production_budget\n",
    "finance['domestic_gross'] = domestic_gross\n",
    "finance['worldwide_gross'] = worldwide_gross\n",
    "\n",
    "# calculate profit as gross revenue minus production budget\n",
    "finance['profit'] = finance['worldwide_gross'] - finance['production_budget']"
   ]
  },
  {
   "cell_type": "markdown",
   "metadata": {},
   "source": [
    "**Clean Genre data**"
   ]
  },
  {
   "cell_type": "code",
   "execution_count": 6,
   "metadata": {},
   "outputs": [],
   "source": [
    "# The original formatting of genre data shows multiple genres  \n",
    "# in each genre cell for selected movies (corresponding to \n",
    "# movies classified in multiple genres). The are separated by \n",
    "# commas. The below analysis instead creates a distinct column\n",
    "# for each genre and represents the data as binary 1 or 0 to \n",
    "# indicate whether a given film is classified within that genre.\n",
    "\n",
    "genres_messy = imdb_title_basics['genres'].dropna().unique()\n",
    "genres_clean = []\n",
    "\n",
    "for g in genres_messy:\n",
    "    for g_split in g.split(','):\n",
    "        genres_clean.append(g_split)\n",
    "\n",
    "# remove duplicates\n",
    "genres_clean = list(set(genres_clean))\n",
    "\n",
    "\n",
    "\n",
    "#create dataframe containing only genre data for each film\n",
    "df = imdb_title_basics\n",
    "binary_genres = df.loc[df['genres'].isna() == False].copy()\n",
    "\n",
    "# create a column for each genre\n",
    "# assign a binary 1/0 for the film's genre classification\n",
    "for col in genres_clean:\n",
    "    binary_genres[col] = [col in x for x in binary_genres['genres']]"
   ]
  },
  {
   "cell_type": "markdown",
   "metadata": {},
   "source": [
    "*** ***"
   ]
  },
  {
   "cell_type": "markdown",
   "metadata": {},
   "source": [
    "**Aggregate data to create one DataFrame containing everything used in the remainder of the analysis**"
   ]
  },
  {
   "cell_type": "code",
   "execution_count": 7,
   "metadata": {},
   "outputs": [],
   "source": [
    "# Use SQL to join sources of data to create cohesive and\n",
    "# comprehensive dataset\n",
    "\n",
    "# renaming now makes the SQL join cleaner\n",
    "finance = finance.rename(columns = {'movie': 'primary_title'})\n",
    "tmdb_movies = tmdb_movies.rename(columns = {'title': 'primary_title'})\n",
    "\n",
    "# write query\n",
    "q = ''' SELECT * FROM imdb_title_basics\n",
    "LEFT JOIN finance USING (primary_title) \n",
    "LEFT JOIN tmdb_movies USING (primary_title)\n",
    "LEFT JOIN binary_genres USING (tconst);'''\n",
    "\n",
    "# Use SQL to join relevant dataframes\n",
    "all_data = pysqldf(q)\n",
    "all_data.drop(['primary_title', 'genres'], axis=1, inplace=True)"
   ]
  },
  {
   "cell_type": "markdown",
   "metadata": {},
   "source": [
    "## Data Analysis Phase 1: The Impact of Genre\n",
    "\n",
    "[DESCRIPTION HERE OF STEPS TO COME]"
   ]
  },
  {
   "cell_type": "markdown",
   "metadata": {},
   "source": [
    "### Data breakdown by Genre to gain an understanding of how film performance varies across genres\n",
    "\n",
    "Start with creating an empty dataframe.\n",
    "\n",
    "Note that the mean is used for popularity metrics given that they are on a 10-point scale, thus eliminating the possibility of outliers. The median is used in areas where outliers are prevalent."
   ]
  },
  {
   "cell_type": "code",
   "execution_count": 8,
   "metadata": {},
   "outputs": [],
   "source": [
    "# Create dataframe as the base for aggregating data \n",
    "# on a per-genre basis into one dataframe\n",
    "\n",
    "df_genres = pd.DataFrame(genres_clean)\n",
    "df_genres.columns = ['genre']\n",
    "df_genres.sort_values(by='genre', inplace=True)\n",
    "df_genres.reset_index(inplace=True, drop=True)"
   ]
  },
  {
   "cell_type": "markdown",
   "metadata": {},
   "source": [
    "**Add financial performance data**"
   ]
  },
  {
   "cell_type": "code",
   "execution_count": 9,
   "metadata": {},
   "outputs": [],
   "source": [
    "# Calculate the mean and median profit for each genre\n",
    "profit_median = []\n",
    "profit_mean = []\n",
    "for g in genres_clean:\n",
    "    profit = all_data.loc[(all_data['profit'].isna() == False) &\n",
    "                          (all_data[g] == True), 'profit']\n",
    "    profit_median.append(profit.median())\n",
    "    profit_mean.append(profit.mean())\n",
    "     \n",
    "df_genres['profit_median'] = profit_median\n",
    "df_genres['profit_mean'] = profit_mean\n",
    "\n",
    "# Add column to rank the median profit of each genre\n",
    "df_genres.sort_values(by='profit_median', ascending=False, inplace=True)\n",
    "rank = df_genres.reset_index(drop=True).index\n",
    "df_genres['profit_rank'] = list(rank)"
   ]
  },
  {
   "cell_type": "markdown",
   "metadata": {},
   "source": [
    "**Add popularity metrics**"
   ]
  },
  {
   "cell_type": "code",
   "execution_count": 10,
   "metadata": {},
   "outputs": [],
   "source": [
    "# Calculate the mean and median popularity for each genre\n",
    "pop_median = []\n",
    "pop_mean = []\n",
    "for g in genres_clean:\n",
    "    pop = all_data.loc[(all_data['popularity'].isna() == False) &\n",
    "                       (all_data[g] == True), 'popularity']\n",
    "    pop_median.append(pop.median())\n",
    "    pop_mean.append(pop.mean())\n",
    "    \n",
    "df_genres['popularity_median'] = pop_median\n",
    "df_genres['popularity_mean'] = pop_mean\n",
    "\n",
    "\n",
    "# Add column to rank the median popularity of each genre\n",
    "df_genres.sort_values(by='popularity_mean', ascending=False, inplace=True)\n",
    "rank = df_genres.reset_index(drop=True).index\n",
    "df_genres['popularity_rank'] = list(rank)"
   ]
  },
  {
   "cell_type": "markdown",
   "metadata": {},
   "source": [
    "**Add metric for the number of movies in each genre**"
   ]
  },
  {
   "cell_type": "code",
   "execution_count": 11,
   "metadata": {},
   "outputs": [],
   "source": [
    "# Calculate the total number of movies belonging to each genre\n",
    "movie_ct = []\n",
    "for g in genres_clean:\n",
    "    ct = all_data.loc[(all_data[g] == True), g]\n",
    "    movie_ct.append(ct.sum())\n",
    "\n",
    "# add column with count data\n",
    "df_genres['movie_ct'] = movie_ct\n",
    "df_genres.dropna(inplace=True)"
   ]
  },
  {
   "cell_type": "markdown",
   "metadata": {},
   "source": [
    "**Remove genres that have very few movies, as it is an indicator of an overall small demand for films in that genre**"
   ]
  },
  {
   "cell_type": "code",
   "execution_count": 12,
   "metadata": {},
   "outputs": [],
   "source": [
    "MIN_MOVIE_CT = 2000\n",
    "\n",
    "df_genres = df_genres.loc[df_genres['movie_ct'] > MIN_MOVIE_CT].copy()\n",
    "df_genres.sort_values(by='movie_ct', inplace=True)"
   ]
  },
  {
   "cell_type": "markdown",
   "metadata": {},
   "source": [
    "**Determine the most successful genres overall**\n",
    "\n",
    "Consider both profitability and popularity to determine which genres are most lucrative. "
   ]
  },
  {
   "cell_type": "code",
   "execution_count": 13,
   "metadata": {},
   "outputs": [],
   "source": [
    "# From the start, exclude movies that are relatively poorly\n",
    "# ranked in terms of profit or popularity.\n",
    "\n",
    "# These numbers are based on a close, manual analysis of the \n",
    "# data. Future studies will use statistical methods instead. \n",
    "min_profitrank = 20\n",
    "min_poprank = 20\n",
    "num_to_include_in_leaders = 4\n",
    "\n",
    "leading_genres = df_genres.loc[(df_genres['profit_rank'] <= min_profitrank)].copy()\n",
    "leading_genres = df_genres.loc[(df_genres['popularity_rank'] <= min_poprank)].copy()\n",
    "leading_genres.sort_values(by='popularity_mean', ascending=False, inplace=True)\n",
    "leading_genres = leading_genres.iloc[:num_to_include_in_leaders].copy()"
   ]
  },
  {
   "cell_type": "code",
   "execution_count": 14,
   "metadata": {},
   "outputs": [],
   "source": [
    "# Isolate the genres that are *not* leaders\n",
    "\n",
    "trailing_genres = df_genres.copy()\n",
    "\n",
    "for g in list(df_genres['genre']):\n",
    "    if g in list(leading_genres['genre']):\n",
    "        x = df_genres.loc[df_genres.genre == g].index\n",
    "        trailing_genres.drop(index=x, inplace=True)\n",
    "\n",
    "# Use the below analysis to determine an aggregate\n",
    "# valuation of genres that are *not* in the top performers\n",
    "# as a means of comparison\n",
    "\n",
    "pop_agg = []\n",
    "profit_agg = []\n",
    "ct = 0\n",
    "\n",
    "for g in list(trailing_genres['genre']):\n",
    "    pop = all_data.loc[(all_data['popularity'].isna() == False) & \n",
    "                       (all_data[g] == True), 'popularity']\n",
    "    pop_agg.append(list(pop))\n",
    "\n",
    "    profit = all_data.loc[(all_data['profit'].isna() == False) &\n",
    "                          (all_data[g] == True), 'profit']\n",
    "    profit_agg.append(list(profit))\n",
    "\n",
    "    ct += len(all_data.loc[(all_data['tconst'].isna() == False) & \n",
    "                           (all_data[g] == True), 'tconst'])\n",
    "\n",
    "# currently formatted as lists of lists. Make into one list instead,\n",
    "# then calculate key metrics\n",
    "profit_flat = [val for sublist in profit_agg for val in sublist]\n",
    "profit_median = statistics.median(profit_flat)\n",
    "profit_mean = statistics.mean(profit_flat)\n",
    "    \n",
    "# currently formatted as lists of lists. Make into one list instead,\n",
    "# then calculate key metrics    \n",
    "pop_flat = [val for sublist in pop_agg for val in sublist]\n",
    "pop_median = statistics.median(pop_flat)\n",
    "pop_mean = statistics.mean(pop_flat)\n",
    "rank = leading_genres.profit_rank.max() + 1\n",
    "\n",
    "# add an \"All Others\" category to be plotted alongside top performers\n",
    "leading_genres = leading_genres.append({'genre': 'All Others',\n",
    "                       'profit_median': profit_median,\n",
    "                       'profit_mean': profit_mean,\n",
    "                       'profit_rank': rank,\n",
    "                       'popularity_median': pop_median,\n",
    "                       'popularity_mean':pop_mean,\n",
    "                       'popularity_rank':rank,\n",
    "                       'movie_ct': ct}, ignore_index=True)"
   ]
  },
  {
   "cell_type": "code",
   "execution_count": 15,
   "metadata": {},
   "outputs": [
    {
     "data": {
      "text/html": [
       "<div>\n",
       "<style scoped>\n",
       "    .dataframe tbody tr th:only-of-type {\n",
       "        vertical-align: middle;\n",
       "    }\n",
       "\n",
       "    .dataframe tbody tr th {\n",
       "        vertical-align: top;\n",
       "    }\n",
       "\n",
       "    .dataframe thead th {\n",
       "        text-align: right;\n",
       "    }\n",
       "</style>\n",
       "<table border=\"1\" class=\"dataframe\">\n",
       "  <thead>\n",
       "    <tr style=\"text-align: right;\">\n",
       "      <th></th>\n",
       "      <th>genre</th>\n",
       "      <th>profit_median</th>\n",
       "      <th>profit_mean</th>\n",
       "      <th>profit_rank</th>\n",
       "      <th>popularity_median</th>\n",
       "      <th>popularity_mean</th>\n",
       "      <th>popularity_rank</th>\n",
       "      <th>movie_ct</th>\n",
       "    </tr>\n",
       "  </thead>\n",
       "  <tbody>\n",
       "    <tr>\n",
       "      <th>4</th>\n",
       "      <td>All Others</td>\n",
       "      <td>15174817.0</td>\n",
       "      <td>8.255149e+07</td>\n",
       "      <td>18</td>\n",
       "      <td>2.1355</td>\n",
       "      <td>4.493014</td>\n",
       "      <td>18</td>\n",
       "      <td>71803.0</td>\n",
       "    </tr>\n",
       "    <tr>\n",
       "      <th>3</th>\n",
       "      <td>Music</td>\n",
       "      <td>4856688.0</td>\n",
       "      <td>3.903443e+07</td>\n",
       "      <td>16</td>\n",
       "      <td>2.3780</td>\n",
       "      <td>5.539034</td>\n",
       "      <td>4</td>\n",
       "      <td>10806.0</td>\n",
       "    </tr>\n",
       "    <tr>\n",
       "      <th>2</th>\n",
       "      <td>Sport</td>\n",
       "      <td>4797192.0</td>\n",
       "      <td>4.173338e+07</td>\n",
       "      <td>17</td>\n",
       "      <td>3.7175</td>\n",
       "      <td>6.810780</td>\n",
       "      <td>2</td>\n",
       "      <td>6737.0</td>\n",
       "    </tr>\n",
       "    <tr>\n",
       "      <th>1</th>\n",
       "      <td>Game-Show</td>\n",
       "      <td>12211455.5</td>\n",
       "      <td>5.258693e+07</td>\n",
       "      <td>10</td>\n",
       "      <td>4.7690</td>\n",
       "      <td>6.976670</td>\n",
       "      <td>1</td>\n",
       "      <td>7132.0</td>\n",
       "    </tr>\n",
       "    <tr>\n",
       "      <th>0</th>\n",
       "      <td>Adventure</td>\n",
       "      <td>57375039.0</td>\n",
       "      <td>1.904184e+08</td>\n",
       "      <td>2</td>\n",
       "      <td>4.4065</td>\n",
       "      <td>7.857636</td>\n",
       "      <td>0</td>\n",
       "      <td>2308.0</td>\n",
       "    </tr>\n",
       "  </tbody>\n",
       "</table>\n",
       "</div>"
      ],
      "text/plain": [
       "        genre  profit_median   profit_mean  profit_rank  popularity_median  \\\n",
       "4  All Others     15174817.0  8.255149e+07           18             2.1355   \n",
       "3       Music      4856688.0  3.903443e+07           16             2.3780   \n",
       "2       Sport      4797192.0  4.173338e+07           17             3.7175   \n",
       "1   Game-Show     12211455.5  5.258693e+07           10             4.7690   \n",
       "0   Adventure     57375039.0  1.904184e+08            2             4.4065   \n",
       "\n",
       "   popularity_mean  popularity_rank  movie_ct  \n",
       "4         4.493014               18   71803.0  \n",
       "3         5.539034                4   10806.0  \n",
       "2         6.810780                2    6737.0  \n",
       "1         6.976670                1    7132.0  \n",
       "0         7.857636                0    2308.0  "
      ]
     },
     "execution_count": 15,
     "metadata": {},
     "output_type": "execute_result"
    }
   ],
   "source": [
    "leading_genres.sort_values(by='popularity_mean')"
   ]
  },
  {
   "cell_type": "markdown",
   "metadata": {},
   "source": [
    "### Plot findings: how do the genres compare?"
   ]
  },
  {
   "cell_type": "code",
   "execution_count": 16,
   "metadata": {},
   "outputs": [
    {
     "data": {
      "image/png": "[encoded data removed]",
      "text/plain": [
       "<Figure size 720x504 with 1 Axes>"
      ]
     },
     "metadata": {
      "needs_background": "light"
     },
     "output_type": "display_data"
    }
   ],
   "source": [
    "leading_genres.sort_values(by='popularity_mean', \n",
    "                           ascending=False, inplace=True)\n",
    "\n",
    "\n",
    "x = leading_genres['genre']\n",
    "y = leading_genres['popularity_mean']\n",
    "\n",
    "f, ax = plt.subplots(1, 1, figsize=(10, 7), sharex=True)\n",
    "sns.set_context('talk') \n",
    "sns.set_palette(\"Reds_r\")\n",
    "sns.barplot(data = leading_genres, \n",
    "            y = 'genre', \n",
    "            x = 'popularity_mean', \n",
    "            ax=ax, \n",
    "            palette='Reds_r', orient='h')\n",
    "plt.ylabel('')\n",
    "plt.xlabel('Popularity')\n",
    "ax.set(xlim=(0,10))\n",
    "ax.set_title('Popular Success of Leading Genres')\n",
    "plt.savefig('images/Popular Success of Leading Genres.png')\n",
    "plt.show()"
   ]
  },
  {
   "cell_type": "markdown",
   "metadata": {},
   "source": [
    "### Now that we know what is popular, how does popularity affect the profitability of a film?"
   ]
  },
  {
   "cell_type": "code",
   "execution_count": 17,
   "metadata": {},
   "outputs": [
    {
     "data": {
      "text/plain": [
       "Text(0.5, 1.0, 'Correlation between popularity and profit')"
      ]
     },
     "execution_count": 17,
     "metadata": {},
     "output_type": "execute_result"
    },
    {
     "data": {
      "image/png": "[encoded data removed]",
      "text/plain": [
       "<Figure size 432x288 with 2 Axes>"
      ]
     },
     "metadata": {
      "needs_background": "light"
     },
     "output_type": "display_data"
    }
   ],
   "source": [
    "# This portion of the analysis takes a subset of the full movie database,\n",
    "# specifically, those within the target genres, and investigates the\n",
    "# relationship between profitability and popularity.\n",
    "\n",
    "# Create a dataframe based off the full dataset\n",
    "df = all_data.dropna().copy()\n",
    "\n",
    "# Gather lists of the profit and popularity values for every\n",
    "# film within the leading genres\n",
    "prof = []\n",
    "pop = []\n",
    "for g in list(leading_genres.genre):\n",
    "    if g == 'All Others':\n",
    "        pass\n",
    "    else:\n",
    "        x = df.loc[df[g]==True]\n",
    "        prof.append(list(x['profit']))\n",
    "        pop.append(list(x['popularity']))\n",
    "\n",
    "        \n",
    "# currently formatted as lists of lists. Make each pop and prof\n",
    "# into their own single-layer lists instead\n",
    "prof_flat = [val for sublist in prof for val in sublist]\n",
    "pop_flat = [val for sublist in pop for val in sublist]\n",
    "\n",
    " \n",
    "# remove profit outliers by calculating the std dev and median\n",
    "profit_std = statistics.pstdev(prof_flat)\n",
    "profit_med = statistics.median(prof_flat)\n",
    "profit_lo = profit_med - 3 * profit_std\n",
    "profit_hi = profit_med + 3 * profit_std\n",
    "prof_outlier = df.loc[(df['profit'] > profit_hi) | \n",
    "            (df['profit'] < profit_lo)]\n",
    "\n",
    "# remove popularity outliers by calculating the std dev and median\n",
    "pop_std = statistics.pstdev(pop_flat)\n",
    "pop_med = statistics.median(pop_flat)\n",
    "pop_lo = pop_med - 3 * pop_std\n",
    "pop_hi = pop_med + 3 * pop_std\n",
    "pop_outlier = df.loc[(df['popularity'] > pop_hi) | \n",
    "            (df['popularity'] < pop_lo)]\n",
    "\n",
    "# remove outliers from the dataset\n",
    "df = df.drop(pop_outlier.index.append(prof_outlier.index)).copy()\n",
    "df = df[['profit', 'popularity']].copy()\n",
    "\n",
    "# plot\n",
    "corrMatrix = df.corr()\n",
    "sns.heatmap(corrMatrix, annot=True)\n",
    "plt.title(\"Correlation between popularity and profit\", fontsize=15)"
   ]
  },
  {
   "cell_type": "markdown",
   "metadata": {},
   "source": [
    "**Plot the relationship between popularity and profitability for the selected leading genres**"
   ]
  },
  {
   "cell_type": "code",
   "execution_count": 18,
   "metadata": {
    "scrolled": true
   },
   "outputs": [
    {
     "data": {
      "image/png": "[encoded data removed]",
      "text/plain": [
       "<Figure size 720x504 with 1 Axes>"
      ]
     },
     "metadata": {
      "needs_background": "light"
     },
     "output_type": "display_data"
    }
   ],
   "source": [
    "x = df['popularity']\n",
    "y = df['profit']/10**6\n",
    "\n",
    "sns.set_context('talk') \n",
    "sns.set_palette(\"Reds_r\")\n",
    "f, ax = plt.subplots(1, 1, figsize=(10, 7), sharex=True)\n",
    "\n",
    "sns.regplot(x=x, y=y, ax=ax)\n",
    "plt.xlabel('Popularity Rating')\n",
    "plt.ylabel('Movie Profit (Million $)')\n",
    "ax.set_title('Effect of Popularity on Financial Success')\n",
    "plt.savefig('images/Effect of Popularity on Financial Success.png')\n",
    "plt.show()"
   ]
  },
  {
   "cell_type": "markdown",
   "metadata": {},
   "source": [
    "## Analysis Phase 2: The Impact of the Director\n",
    "\n",
    "[Describe what's going on here]"
   ]
  },
  {
   "cell_type": "markdown",
   "metadata": {},
   "source": [
    "**Additional cleaning of rotten tomatoes datasets.**"
   ]
  },
  {
   "cell_type": "code",
   "execution_count": 19,
   "metadata": {},
   "outputs": [],
   "source": [
    "##### CALCULATE THE AVERAGE 'FRESH' RATING FOR EACH MOVIE ID\n",
    "MINIMUM_FRESHOMETER = 5 #minimum number of reviews to be considered\n",
    "\n",
    "\n",
    "freshness = pd.DataFrame([rt_reviews.id.unique()], index=['id']).transpose()\n",
    "rating = pd.DataFrame([rt_reviews.id.unique()], index=['id']).transpose()\n",
    "\n",
    "for movie_id in freshness['id']:\n",
    "    fresh =  rt_reviews.loc[rt_reviews['id'] == movie_id, 'fresh']\n",
    "    rating = rt_reviews.loc[rt_reviews['id'] == movie_id, 'rating']\n",
    "\n",
    "    review_ct = rt_reviews.loc[rt_reviews['id'] == movie_id, 'fresh'].size\n",
    "    if  review_ct >= MINIMUM_FRESHOMETER:\n",
    "        freshness.loc[freshness['id'] == movie_id, 'fresh'] = fresh.mean() \n",
    "        freshness.loc[freshness['id'] == movie_id, 'rating'] = rating.mean()\n",
    "\n",
    "freshness = freshness.dropna()"
   ]
  },
  {
   "cell_type": "markdown",
   "metadata": {},
   "source": [
    "**[DESCRIPTION]**"
   ]
  },
  {
   "cell_type": "code",
   "execution_count": 21,
   "metadata": {
    "scrolled": true
   },
   "outputs": [],
   "source": [
    "# --- CORRELATION BETWEEN TWO POPULARITY METRICS ---\n",
    "rt = pysqldf(''' \n",
    "SELECT * FROM rt_movie_info\n",
    "LEFT JOIN freshness USING (id);''')\n",
    "\n",
    "\n",
    "# if not already a float, remove ',' and convert to float\n",
    "clean = []\n",
    "for x in rt['box_office']:\n",
    "    if type(x) == type('abc'):\n",
    "        clean.append(float(x.replace(',','')))\n",
    "    else:\n",
    "        clean.append(x)\n",
    "\n",
    "# update column in dataframe with floats\n",
    "rt['box_office'] = clean"
   ]
  },
  {
   "cell_type": "code",
   "execution_count": 23,
   "metadata": {
    "scrolled": true
   },
   "outputs": [
    {
     "data": {
      "text/html": [
       "<div>\n",
       "<style scoped>\n",
       "    .dataframe tbody tr th:only-of-type {\n",
       "        vertical-align: middle;\n",
       "    }\n",
       "\n",
       "    .dataframe tbody tr th {\n",
       "        vertical-align: top;\n",
       "    }\n",
       "\n",
       "    .dataframe thead th {\n",
       "        text-align: right;\n",
       "    }\n",
       "</style>\n",
       "<table border=\"1\" class=\"dataframe\">\n",
       "  <thead>\n",
       "    <tr style=\"text-align: right;\">\n",
       "      <th></th>\n",
       "      <th>id</th>\n",
       "      <th>genre</th>\n",
       "      <th>director</th>\n",
       "      <th>box_office</th>\n",
       "      <th>studio</th>\n",
       "      <th>fresh</th>\n",
       "      <th>rating</th>\n",
       "    </tr>\n",
       "  </thead>\n",
       "  <tbody>\n",
       "    <tr>\n",
       "      <th>0</th>\n",
       "      <td>1</td>\n",
       "      <td>Action and Adventure|Classics|Drama</td>\n",
       "      <td>William Friedkin</td>\n",
       "      <td>NaN</td>\n",
       "      <td>None</td>\n",
       "      <td>NaN</td>\n",
       "      <td>NaN</td>\n",
       "    </tr>\n",
       "    <tr>\n",
       "      <th>1</th>\n",
       "      <td>3</td>\n",
       "      <td>Drama|Science Fiction and Fantasy</td>\n",
       "      <td>David Cronenberg</td>\n",
       "      <td>600000.0</td>\n",
       "      <td>Entertainment One</td>\n",
       "      <td>0.631902</td>\n",
       "      <td>5.988938</td>\n",
       "    </tr>\n",
       "    <tr>\n",
       "      <th>2</th>\n",
       "      <td>5</td>\n",
       "      <td>Drama|Musical and Performing Arts</td>\n",
       "      <td>Allison Anders</td>\n",
       "      <td>NaN</td>\n",
       "      <td>None</td>\n",
       "      <td>0.782609</td>\n",
       "      <td>6.800000</td>\n",
       "    </tr>\n",
       "    <tr>\n",
       "      <th>3</th>\n",
       "      <td>6</td>\n",
       "      <td>Drama|Mystery and Suspense</td>\n",
       "      <td>Barry Levinson</td>\n",
       "      <td>NaN</td>\n",
       "      <td>None</td>\n",
       "      <td>0.561404</td>\n",
       "      <td>5.890244</td>\n",
       "    </tr>\n",
       "    <tr>\n",
       "      <th>4</th>\n",
       "      <td>7</td>\n",
       "      <td>Drama|Romance</td>\n",
       "      <td>Rodney Bennett</td>\n",
       "      <td>NaN</td>\n",
       "      <td>None</td>\n",
       "      <td>NaN</td>\n",
       "      <td>NaN</td>\n",
       "    </tr>\n",
       "    <tr>\n",
       "      <th>...</th>\n",
       "      <td>...</td>\n",
       "      <td>...</td>\n",
       "      <td>...</td>\n",
       "      <td>...</td>\n",
       "      <td>...</td>\n",
       "      <td>...</td>\n",
       "      <td>...</td>\n",
       "    </tr>\n",
       "    <tr>\n",
       "      <th>1555</th>\n",
       "      <td>1996</td>\n",
       "      <td>Action and Adventure|Horror|Mystery and Suspense</td>\n",
       "      <td>None</td>\n",
       "      <td>33886034.0</td>\n",
       "      <td>New Line Cinema</td>\n",
       "      <td>0.671329</td>\n",
       "      <td>6.047113</td>\n",
       "    </tr>\n",
       "    <tr>\n",
       "      <th>1556</th>\n",
       "      <td>1997</td>\n",
       "      <td>Comedy|Science Fiction and Fantasy</td>\n",
       "      <td>Steve Barron</td>\n",
       "      <td>NaN</td>\n",
       "      <td>Paramount</td>\n",
       "      <td>0.357143</td>\n",
       "      <td>4.587091</td>\n",
       "    </tr>\n",
       "    <tr>\n",
       "      <th>1557</th>\n",
       "      <td>1998</td>\n",
       "      <td>Classics|Comedy|Drama|Musical and Performing Arts</td>\n",
       "      <td>Gordon Douglas</td>\n",
       "      <td>NaN</td>\n",
       "      <td>None</td>\n",
       "      <td>NaN</td>\n",
       "      <td>NaN</td>\n",
       "    </tr>\n",
       "    <tr>\n",
       "      <th>1558</th>\n",
       "      <td>1999</td>\n",
       "      <td>Comedy|Drama|Kids and Family|Sports and Fitness</td>\n",
       "      <td>David Mickey Evans</td>\n",
       "      <td>NaN</td>\n",
       "      <td>None</td>\n",
       "      <td>0.586957</td>\n",
       "      <td>5.854839</td>\n",
       "    </tr>\n",
       "    <tr>\n",
       "      <th>1559</th>\n",
       "      <td>2000</td>\n",
       "      <td>Action and Adventure|Art House and Internation...</td>\n",
       "      <td>None</td>\n",
       "      <td>NaN</td>\n",
       "      <td>Columbia Pictures</td>\n",
       "      <td>0.473684</td>\n",
       "      <td>5.225033</td>\n",
       "    </tr>\n",
       "  </tbody>\n",
       "</table>\n",
       "<p>1560 rows × 7 columns</p>\n",
       "</div>"
      ],
      "text/plain": [
       "        id                                              genre  \\\n",
       "0        1                Action and Adventure|Classics|Drama   \n",
       "1        3                  Drama|Science Fiction and Fantasy   \n",
       "2        5                  Drama|Musical and Performing Arts   \n",
       "3        6                         Drama|Mystery and Suspense   \n",
       "4        7                                      Drama|Romance   \n",
       "...    ...                                                ...   \n",
       "1555  1996   Action and Adventure|Horror|Mystery and Suspense   \n",
       "1556  1997                 Comedy|Science Fiction and Fantasy   \n",
       "1557  1998  Classics|Comedy|Drama|Musical and Performing Arts   \n",
       "1558  1999    Comedy|Drama|Kids and Family|Sports and Fitness   \n",
       "1559  2000  Action and Adventure|Art House and Internation...   \n",
       "\n",
       "                director  box_office             studio     fresh    rating  \n",
       "0       William Friedkin         NaN               None       NaN       NaN  \n",
       "1       David Cronenberg    600000.0  Entertainment One  0.631902  5.988938  \n",
       "2         Allison Anders         NaN               None  0.782609  6.800000  \n",
       "3         Barry Levinson         NaN               None  0.561404  5.890244  \n",
       "4         Rodney Bennett         NaN               None       NaN       NaN  \n",
       "...                  ...         ...                ...       ...       ...  \n",
       "1555                None  33886034.0    New Line Cinema  0.671329  6.047113  \n",
       "1556        Steve Barron         NaN          Paramount  0.357143  4.587091  \n",
       "1557      Gordon Douglas         NaN               None       NaN       NaN  \n",
       "1558  David Mickey Evans         NaN               None  0.586957  5.854839  \n",
       "1559                None         NaN  Columbia Pictures  0.473684  5.225033  \n",
       "\n",
       "[1560 rows x 7 columns]"
      ]
     },
     "execution_count": 23,
     "metadata": {},
     "output_type": "execute_result"
    }
   ],
   "source": [
    "rt"
   ]
  },
  {
   "cell_type": "markdown",
   "metadata": {},
   "source": [
    "**Aggregate data for each director**"
   ]
  },
  {
   "cell_type": "code",
   "execution_count": 25,
   "metadata": {},
   "outputs": [],
   "source": [
    "# In many cases, there are multiple directors. This loop is \n",
    "# necessary to split the string into each director separately\n",
    "\n",
    "# the 'counts' values correspond to the number of films directed\n",
    "# by the corresponding director\n",
    "director_counts_dict = {}\n",
    "directors = rt['director'].loc[rt['director'].isna()==False]\n",
    "for name in directors:\n",
    "    for name_split in name.split(sep = '|'):\n",
    "        if name_split in director_counts_dict.keys():\n",
    "            director_counts_dict[name_split] += 1\n",
    "        else:\n",
    "            director_counts_dict[name_split] = 1\n",
    "\n",
    "director_counts_df = pd.Series(director_counts_dict).sort_values(ascending=False)"
   ]
  },
  {
   "cell_type": "markdown",
   "metadata": {},
   "source": [
    "**Compare the performance of each director to identify the top performers**"
   ]
  },
  {
   "cell_type": "code",
   "execution_count": 26,
   "metadata": {},
   "outputs": [
    {
     "data": {
      "text/html": [
       "<div>\n",
       "<style scoped>\n",
       "    .dataframe tbody tr th:only-of-type {\n",
       "        vertical-align: middle;\n",
       "    }\n",
       "\n",
       "    .dataframe tbody tr th {\n",
       "        vertical-align: top;\n",
       "    }\n",
       "\n",
       "    .dataframe thead th {\n",
       "        text-align: right;\n",
       "    }\n",
       "</style>\n",
       "<table border=\"1\" class=\"dataframe\">\n",
       "  <thead>\n",
       "    <tr style=\"text-align: right;\">\n",
       "      <th></th>\n",
       "      <th>rank</th>\n",
       "      <th>name</th>\n",
       "      <th>worldwide_box_office</th>\n",
       "      <th>movies</th>\n",
       "      <th>average</th>\n",
       "    </tr>\n",
       "  </thead>\n",
       "  <tbody>\n",
       "    <tr>\n",
       "      <th>0</th>\n",
       "      <td>1</td>\n",
       "      <td>Steven Spielberg</td>\n",
       "      <td>10548165432</td>\n",
       "      <td>36</td>\n",
       "      <td>293004595</td>\n",
       "    </tr>\n",
       "    <tr>\n",
       "      <th>1</th>\n",
       "      <td>2</td>\n",
       "      <td>Anthony Russo</td>\n",
       "      <td>6839063507</td>\n",
       "      <td>7</td>\n",
       "      <td>977009072</td>\n",
       "    </tr>\n",
       "    <tr>\n",
       "      <th>2</th>\n",
       "      <td>3</td>\n",
       "      <td>Joe Russo</td>\n",
       "      <td>6839063507</td>\n",
       "      <td>8</td>\n",
       "      <td>854882938</td>\n",
       "    </tr>\n",
       "    <tr>\n",
       "      <th>3</th>\n",
       "      <td>4</td>\n",
       "      <td>Peter Jackson</td>\n",
       "      <td>6535735207</td>\n",
       "      <td>14</td>\n",
       "      <td>466838229</td>\n",
       "    </tr>\n",
       "    <tr>\n",
       "      <th>4</th>\n",
       "      <td>5</td>\n",
       "      <td>Michael Bay</td>\n",
       "      <td>6443668115</td>\n",
       "      <td>16</td>\n",
       "      <td>402729257</td>\n",
       "    </tr>\n",
       "    <tr>\n",
       "      <th>...</th>\n",
       "      <td>...</td>\n",
       "      <td>...</td>\n",
       "      <td>...</td>\n",
       "      <td>...</td>\n",
       "      <td>...</td>\n",
       "    </tr>\n",
       "    <tr>\n",
       "      <th>995</th>\n",
       "      <td>996</td>\n",
       "      <td>Park Chan-wook</td>\n",
       "      <td>94017407</td>\n",
       "      <td>8</td>\n",
       "      <td>11752176</td>\n",
       "    </tr>\n",
       "    <tr>\n",
       "      <th>996</th>\n",
       "      <td>997</td>\n",
       "      <td>Bronwen Hughes</td>\n",
       "      <td>93957800</td>\n",
       "      <td>2</td>\n",
       "      <td>46978900</td>\n",
       "    </tr>\n",
       "    <tr>\n",
       "      <th>997</th>\n",
       "      <td>998</td>\n",
       "      <td>Bob Fosse</td>\n",
       "      <td>93623112</td>\n",
       "      <td>4</td>\n",
       "      <td>23405778</td>\n",
       "    </tr>\n",
       "    <tr>\n",
       "      <th>998</th>\n",
       "      <td>999</td>\n",
       "      <td>Mike Binder</td>\n",
       "      <td>93561782</td>\n",
       "      <td>8</td>\n",
       "      <td>11695223</td>\n",
       "    </tr>\n",
       "    <tr>\n",
       "      <th>999</th>\n",
       "      <td>1000</td>\n",
       "      <td>Lee Hwan-kyung</td>\n",
       "      <td>93120047</td>\n",
       "      <td>3</td>\n",
       "      <td>31040016</td>\n",
       "    </tr>\n",
       "  </tbody>\n",
       "</table>\n",
       "<p>1000 rows × 5 columns</p>\n",
       "</div>"
      ],
      "text/plain": [
       "     rank              name  worldwide_box_office  movies    average\n",
       "0       1  Steven Spielberg           10548165432      36  293004595\n",
       "1       2     Anthony Russo            6839063507       7  977009072\n",
       "2       3         Joe Russo            6839063507       8  854882938\n",
       "3       4     Peter Jackson            6535735207      14  466838229\n",
       "4       5       Michael Bay            6443668115      16  402729257\n",
       "..    ...               ...                   ...     ...        ...\n",
       "995   996    Park Chan-wook              94017407       8   11752176\n",
       "996   997    Bronwen Hughes              93957800       2   46978900\n",
       "997   998         Bob Fosse              93623112       4   23405778\n",
       "998   999       Mike Binder              93561782       8   11695223\n",
       "999  1000    Lee Hwan-kyung              93120047       3   31040016\n",
       "\n",
       "[1000 rows x 5 columns]"
      ]
     },
     "execution_count": 26,
     "metadata": {},
     "output_type": "execute_result"
    }
   ],
   "source": [
    "tn_top_directors"
   ]
  },
  {
   "cell_type": "code",
   "execution_count": 42,
   "metadata": {},
   "outputs": [],
   "source": [
    "# the copied dataframe contains a list of the top 1000 directors\n",
    "# as provided by The Numbers\n",
    "top_directors = tn_top_directors.copy()\n",
    "\n",
    "\n",
    "# only producers with production +1stddev from median performance\n",
    "# as this is an indicator of a bredth of experience relative to peers\n",
    "movies = top_directors.movies\n",
    "min_movies_to_qualify = movies.std() + movies.median()\n",
    "\n",
    "# when recommending a top director, it is important \n",
    "# that they aren't dead or 'out of service'. This is a manually\n",
    "# compiled list of directors who appeared at the\n",
    "# top of the list but who cannot be recommended\n",
    "OUT_OF_SERVICE = ['Clint Eastwood']\n",
    "\n",
    "for i, director in enumerate(OUT_OF_SERVICE):\n",
    "    index_director = top_directors.loc[top_directors.name==OUT_OF_SERVICE[i]].index\n",
    "    top_directors.drop(index=index_director, inplace=True)\n",
    "\n",
    "top_directors = top_directors.loc[top_directors['movies'] > min_movies_to_qualify]\n",
    "\n",
    "# rank the directors into four tiers\n",
    "# the number assigned to each bucket is less relevant as the\n",
    "# goal is to show an overall trend\n",
    "t1 = 5\n",
    "t2 = 25\n",
    "t3 = 50\n",
    "t4 = 100\n",
    "\n",
    "# place each director into tier 1-4\n",
    "# based on their worldwide_box_office after having \n",
    "# filtered out directors to include those with higher # of films\n",
    "# directed (i.e. not 'one hit wonders')\n",
    "tier1 = top_directors.iloc[0: t1]['average'].median()/10**6\n",
    "tier2 = top_directors.iloc[t1: t2]['average'].median()/10**6\n",
    "tier3 = top_directors.iloc[t2: t3]['average'].median()/10**6\n",
    "tier4 = top_directors.iloc[t3:]['average'].median()/10**6"
   ]
  },
  {
   "cell_type": "markdown",
   "metadata": {},
   "source": [
    "**Plot Findings**"
   ]
  },
  {
   "cell_type": "code",
   "execution_count": 43,
   "metadata": {},
   "outputs": [
    {
     "data": {
      "text/html": [
       "<div>\n",
       "<style scoped>\n",
       "    .dataframe tbody tr th:only-of-type {\n",
       "        vertical-align: middle;\n",
       "    }\n",
       "\n",
       "    .dataframe tbody tr th {\n",
       "        vertical-align: top;\n",
       "    }\n",
       "\n",
       "    .dataframe thead th {\n",
       "        text-align: right;\n",
       "    }\n",
       "</style>\n",
       "<table border=\"1\" class=\"dataframe\">\n",
       "  <thead>\n",
       "    <tr style=\"text-align: right;\">\n",
       "      <th></th>\n",
       "      <th>Top 5 Directors</th>\n",
       "    </tr>\n",
       "  </thead>\n",
       "  <tbody>\n",
       "    <tr>\n",
       "      <th>1</th>\n",
       "      <td>Steven Spielberg</td>\n",
       "    </tr>\n",
       "    <tr>\n",
       "      <th>2</th>\n",
       "      <td>Peter Jackson</td>\n",
       "    </tr>\n",
       "    <tr>\n",
       "      <th>3</th>\n",
       "      <td>Michael Bay</td>\n",
       "    </tr>\n",
       "    <tr>\n",
       "      <th>4</th>\n",
       "      <td>James Cameron</td>\n",
       "    </tr>\n",
       "    <tr>\n",
       "      <th>5</th>\n",
       "      <td>Christopher Nolan</td>\n",
       "    </tr>\n",
       "  </tbody>\n",
       "</table>\n",
       "</div>"
      ],
      "text/plain": [
       "     Top 5 Directors\n",
       "1   Steven Spielberg\n",
       "2      Peter Jackson\n",
       "3        Michael Bay\n",
       "4      James Cameron\n",
       "5  Christopher Nolan"
      ]
     },
     "execution_count": 43,
     "metadata": {},
     "output_type": "execute_result"
    },
    {
     "data": {
      "image/png": "[encoded data removed]",
      "text/plain": [
       "<Figure size 720x504 with 1 Axes>"
      ]
     },
     "metadata": {
      "needs_background": "light"
     },
     "output_type": "display_data"
    }
   ],
   "source": [
    "sns.set_context('talk') \n",
    "palette = sns.color_palette(\"Reds_r\")\n",
    "f, ax = plt.subplots(1, 1, figsize=(10, 7), sharex=True)\n",
    "\n",
    "x = [f'Top {t1}', \n",
    "     f'Top {t1+1} - {t2}', \n",
    "     f'Top {t2+1} - {t3}', \n",
    "     f'Top {t3+1} - {t4}']\n",
    "y = [tier1, tier2, tier3, tier4]\n",
    "\n",
    "sns.barplot(x=x, y=y, ax=ax, palette=palette)\n",
    "ax.axhline(0, color=\"k\", clip_on=False)\n",
    "ax.set_xlabel('Director Ranking by Past Performance')\n",
    "ax.set_ylabel(\"Median Profit per Movie (Million $)\")\n",
    "ax.set_title('Impact of Director Selection on Profit')\n",
    "sns.despine(bottom=True)\n",
    "plt.savefig('images/Impact of Director Selection on Profit.png')\n",
    "\n",
    "\n",
    "ct = 5\n",
    "table = top_directors[['name']].iloc[:ct]\n",
    "table.index = range(1,ct+1)\n",
    "table.columns = [f'Top {ct} Directors']\n",
    "table"
   ]
  }
 ],
 "metadata": {
  "kernelspec": {
   "display_name": "Python 3",
   "language": "python",
   "name": "python3"
  },
  "language_info": {
   "codemirror_mode": {
    "name": "ipython",
    "version": 3
   },
   "file_extension": ".py",
   "mimetype": "text/x-python",
   "name": "python",
   "nbconvert_exporter": "python",
   "pygments_lexer": "ipython3",
   "version": "3.8.3"
  }
 },
 "nbformat": 4,
 "nbformat_minor": 4
}
