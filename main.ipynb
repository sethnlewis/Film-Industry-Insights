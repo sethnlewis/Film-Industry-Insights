{
 "cells": [
  {
   "cell_type": "markdown",
   "metadata": {},
   "source": [
    "# Final Project for Module 1"
   ]
  },
  {
   "cell_type": "markdown",
   "metadata": {},
   "source": [
    "Import packages that will be used throughout project"
   ]
  },
  {
   "cell_type": "code",
   "execution_count": 45,
   "metadata": {},
   "outputs": [],
   "source": [
    "import pandas as pd\n",
    "import requests\n",
    "import matplotlib.pyplot as plt\n",
    "import seaborn as sns"
   ]
  },
  {
   "cell_type": "markdown",
   "metadata": {},
   "source": [
    "Upload all available data to Pandas dataframes"
   ]
  },
  {
   "cell_type": "code",
   "execution_count": 32,
   "metadata": {},
   "outputs": [],
   "source": [
    "path = 'data/bom.movie_gross.csv'\n",
    "file = pd.read_csv(path)\n",
    "df_bom_movie_gross = pd.DataFrame(file)\n",
    "\n",
    "path = 'data/imdb.name.basics.csv'\n",
    "file = pd.read_csv(path)\n",
    "df_imdb_name_basics = pd.DataFrame(file)\n",
    "\n",
    "path = 'data/imdb.title.akas.csv'\n",
    "file = pd.read_csv(path)\n",
    "df_imdb_title_akas = pd.DataFrame(file)\n",
    "\n",
    "path = 'data/imdb.title.basics.csv'\n",
    "file = pd.read_csv(path)\n",
    "df_imdb_title_basics = pd.DataFrame(file)\n",
    "\n",
    "path = 'data/imdb.title.crew.csv'\n",
    "file = pd.read_csv(path)\n",
    "df_imdb_title_crew = pd.DataFrame(file)\n",
    "\n",
    "path = 'data/imdb.title.principals.csv'\n",
    "file = pd.read_csv(path)\n",
    "df_imdb_title_principals = pd.DataFrame(file)\n",
    "\n",
    "path = 'data/imdb.title.ratings.csv'\n",
    "file = pd.read_csv(path)\n",
    "df_imdb_title_ratings = pd.DataFrame(file)\n",
    "\n",
    "path = 'data/rt.movie_info.tsv'\n",
    "file = pd.read_csv(path, delimiter = '\\t')\n",
    "df_rt_movie_info = pd.DataFrame(file)\n",
    "\n",
    "path = 'data/rt.reviews.tsv'\n",
    "file = pd.read_csv(path, delimiter = '\\t', encoding= 'unicode_escape')\n",
    "df_rt_reviews = pd.DataFrame(file)\n",
    "\n",
    "path = 'data/tmdb.movies.csv'\n",
    "file = pd.read_csv(path)\n",
    "df_tmdb_movies = pd.DataFrame(file)\n",
    "\n",
    "path = 'data/tn.movie_budgets.csv'\n",
    "file = pd.read_csv(path)\n",
    "df_tn_movie_budgets = pd.DataFrame(file)"
   ]
  },
  {
   "cell_type": "code",
   "execution_count": 58,
   "metadata": {},
   "outputs": [
    {
     "name": "stdout",
     "output_type": "stream",
     "text": [
      "-------------------- Data Available --------------------\n",
      "\n",
      "\n",
      "bom_movie_gross: Index(['title', 'studio', 'domestic_gross', 'foreign_gross', 'year'], dtype='object') \n",
      "\n",
      "imdb_name_basics: Index(['nconst', 'primary_name', 'birth_year', 'death_year',\n",
      "       'primary_profession', 'known_for_titles'],\n",
      "      dtype='object') \n",
      "\n",
      "imdb_title_akas: Index(['title_id', 'ordering', 'title', 'region', 'language', 'types',\n",
      "       'attributes', 'is_original_title'],\n",
      "      dtype='object') \n",
      "\n",
      "imdb_title_basics: Index(['tconst', 'primary_title', 'original_title', 'start_year',\n",
      "       'runtime_minutes', 'genres'],\n",
      "      dtype='object') \n",
      "\n",
      "imdb_title_crew: Index(['tconst', 'directors', 'writers'], dtype='object') \n",
      "\n",
      "imdb_title_principals: Index(['tconst', 'ordering', 'nconst', 'category', 'job', 'characters'], dtype='object') \n",
      "\n",
      "imdb_title_ratings: Index(['tconst', 'averagerating', 'numvotes'], dtype='object') \n",
      "\n",
      "rt_movie_info: Index(['id', 'synopsis', 'rating', 'genre', 'director', 'writer',\n",
      "       'theater_date', 'dvd_date', 'currency', 'box_office', 'runtime',\n",
      "       'studio'],\n",
      "      dtype='object') \n",
      "\n",
      "rt_reviews: Index(['id', 'review', 'rating', 'fresh', 'critic', 'top_critic', 'publisher',\n",
      "       'date'],\n",
      "      dtype='object') \n",
      "\n",
      "tmdb_movies: Index(['Unnamed: 0', 'genre_ids', 'id', 'original_language', 'original_title',\n",
      "       'popularity', 'release_date', 'title', 'vote_average', 'vote_count'],\n",
      "      dtype='object') \n",
      "\n",
      "tn_movie_budgets: Index(['id', 'release_date', 'movie', 'production_budget', 'domestic_gross',\n",
      "       'worldwide_gross'],\n",
      "      dtype='object') \n",
      "\n"
     ]
    }
   ],
   "source": [
    "print('-------------------- Data Available --------------------\\n\\n')\n",
    "\n",
    "print('bom_movie_gross:', df_bom_movie_gross.columns, '\\n')\n",
    "print('imdb_name_basics:', df_imdb_name_basics.columns, '\\n')\n",
    "print('imdb_title_akas:', df_imdb_title_akas.columns, '\\n')\n",
    "print('imdb_title_basics:', df_imdb_title_basics.columns, '\\n')\n",
    "print('imdb_title_crew:', df_imdb_title_crew.columns, '\\n')\n",
    "print('imdb_title_principals:', df_imdb_title_principals.columns, '\\n')\n",
    "print('imdb_title_ratings:', df_imdb_title_ratings.columns, '\\n')\n",
    "print('rt_movie_info:', df_rt_movie_info.columns, '\\n')\n",
    "print('rt_reviews:', df_rt_reviews.columns, '\\n')\n",
    "print('tmdb_movies:', df_tmdb_movies.columns, '\\n')\n",
    "print('tn_movie_budgets:', df_tn_movie_budgets.columns, '\\n')"
   ]
  },
  {
   "cell_type": "code",
   "execution_count": null,
   "metadata": {},
   "outputs": [],
   "source": []
  }
 ],
 "metadata": {
  "kernelspec": {
   "display_name": "Python 3",
   "language": "python",
   "name": "python3"
  },
  "language_info": {
   "codemirror_mode": {
    "name": "ipython",
    "version": 3
   },
   "file_extension": ".py",
   "mimetype": "text/x-python",
   "name": "python",
   "nbconvert_exporter": "python",
   "pygments_lexer": "ipython3",
   "version": "3.8.3"
  }
 },
 "nbformat": 4,
 "nbformat_minor": 4
}
