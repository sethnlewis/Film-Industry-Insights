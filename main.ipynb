{
 "cells": [
  {
   "cell_type": "markdown",
   "metadata": {},
   "source": [
    "# Final Project – Module 1"
   ]
  },
  {
   "cell_type": "markdown",
   "metadata": {},
   "source": [
    "### Import packages and datasets that will be used throughout investigation"
   ]
  },
  {
   "cell_type": "code",
   "execution_count": 26,
   "metadata": {},
   "outputs": [],
   "source": [
    "#--- IMPORT NECESSARY PACKAGES ---\n",
    "import numpy as np\n",
    "import pandas as pd\n",
    "import matplotlib.pyplot as plt\n",
    "import seaborn as sns\n",
    "import os\n",
    "from pandasql import sqldf\n",
    "\n",
    "#--- BASIC GLOBAL DECLARATIONS ---\n",
    "pysqldf = lambda q: sqldf(q, globals())\n",
    "%matplotlib inline"
   ]
  },
  {
   "cell_type": "code",
   "execution_count": 27,
   "metadata": {},
   "outputs": [],
   "source": [
    "#--- IMPORT DATA FROM EXTERNAL CSVs ---\n",
    "\n",
    "# basic title data from IMDb\n",
    "path = os.path.join('data','imdb.title.basics.csv')\n",
    "imdb_title_basics = pd.read_csv(path)\n",
    "\n",
    "# review data from IMDb\n",
    "path = os.path.join('data','imdb.title.ratings.csv')\n",
    "imdb_title_ratings = pd.read_csv(path)\n",
    "\n",
    "# movie basic details from Rotten Tomatoes\n",
    "path = os.path.join('data','rt.movie_info.tsv')\n",
    "rt_movie_info = pd.read_csv(path, delimiter = '\\t')\n",
    "\n",
    "# review data from Rotten Tomatoes\n",
    "path = os.path.join('data','rt.reviews.tsv')\n",
    "rt_reviews = pd.read_csv(path, delimiter = '\\t', encoding= 'unicode_escape')\n",
    "\n",
    "# wide ranging data from The Movie Database, largely used for popularity ratings\n",
    "path = os.path.join('data','tmdb.movies.csv')\n",
    "tmdb_movies = pd.read_csv(path).drop('Unnamed: 0', axis=1)\n",
    "\n",
    "# budget data from The Numbers\n",
    "path = os.path.join('data','tn.movie_budgets.csv')\n",
    "tn_movie_budgets = pd.read_csv(path)"
   ]
  },
  {
   "cell_type": "code",
   "execution_count": 28,
   "metadata": {},
   "outputs": [],
   "source": [
    "#--- COMBINE AND CLEAN FINANCIAL DATA ---\n",
    "\n",
    "finance = tn_movie_budgets[['movie', 'production_budget', \n",
    "                            'domestic_gross','worldwide_gross']].copy()\n",
    "\n",
    "# clean data: remove '$' and ',' then convert to float\n",
    "production_budget = [float(x.replace('$', '').replace(',','')) for x in finance.production_budget] \n",
    "domestic_gross = [float(x.replace('$', '').replace(',','')) for x in finance.domestic_gross]\n",
    "worldwide_gross = [float(x.replace('$', '').replace(',','')) for x in finance.worldwide_gross]\n",
    "\n",
    "# input recently cleaned data back into finance dataframe\n",
    "finance['production_budget'] = production_budget\n",
    "finance['domestic_gross'] = domestic_gross\n",
    "finance['worldwide_gross'] = worldwide_gross\n",
    "\n",
    "# calculate profit as gross revenue minus production budget\n",
    "finance['profit'] = finance['worldwide_gross'] - finance['production_budget']"
   ]
  },
  {
   "cell_type": "code",
   "execution_count": 29,
   "metadata": {},
   "outputs": [],
   "source": [
    "#--- CREATE LIST OF ALL POSSIBLE GENRES --- \n",
    "\n",
    "# Note: the current formatting shows multiple genres in each \n",
    "#       genre cell, separated by commas. The below analysis\n",
    "#       instead creates a separate column for each genre and\n",
    "#       represents the data as binary 1 or 0 to indicate whether\n",
    "#       a given film is classified within that genre\n",
    "\n",
    "genres_messy = imdb_title_basics['genres'].dropna().unique()\n",
    "genres_clean = []\n",
    "for genre in genres_messy:\n",
    "    for genre_split in genre.split(','):\n",
    "        genres_clean.append(genre_split)\n",
    "genres_clean = list(set(genres_clean))\n",
    "\n",
    "\n",
    "df_genres = imdb_title_basics.loc[imdb_title_basics['genres'].isna() == False].copy()\n",
    "for colname in genres_clean:\n",
    "    df_genres[colname] = [colname in x for x in df_genres['genres']]"
   ]
  },
  {
   "cell_type": "code",
   "execution_count": 30,
   "metadata": {},
   "outputs": [],
   "source": [
    "#--- DROP COLUMNS UNWANTED IN FINAL DATAFRAME ---\n",
    "\n",
    "# Note that this should be kept in a separate cell since running it\n",
    "# multiple times results in an error if the column is already dropped\n",
    "\n",
    "imdb_title_basics.drop(['original_title', 'genres'], \n",
    "                       axis=1, inplace=True)\n",
    "\n",
    "tmdb_movies.drop(['original_title', 'id', 'genre_ids', \n",
    "                  'original_language'], axis=1, inplace=True)\n",
    "\n",
    "df_genres.drop(['start_year', 'runtime_minutes', 'genres', \n",
    "                'original_title', 'primary_title'], axis=1, inplace=True)\n",
    "\n",
    "# renaming now makes future SQL join cleaner\n",
    "finance = finance.rename(columns = {'movie': 'primary_title'})\n",
    "tmdb_movies = tmdb_movies.rename(columns = {'title': 'primary_title'})\n"
   ]
  },
  {
   "cell_type": "code",
   "execution_count": 31,
   "metadata": {},
   "outputs": [],
   "source": [
    "#--- CREATE DATAFRAME THAT AGGREGATES ALL RELEVANT DATA FROM ALL RELEVANT SOURCES ---\n",
    "q = '''\n",
    "SELECT * FROM imdb_title_basics\n",
    "LEFT JOIN finance USING (primary_title) \n",
    "LEFT JOIN tmdb_movies USING (primary_title)\n",
    "LEFT JOIN df_genres USING (tconst);'''\n",
    "\n",
    "# Use SQL to connect relevant dataframes\n",
    "all_data = pysqldf(q)\n",
    "\n",
    "genre_dict = {\n",
    "'Action': 'genre_action',\n",
    "'Adult': 'genre_adult',\n",
    "'Adventure': 'genre_adventure',\n",
    "'Animation': 'genre_animation',\n",
    "'Biography': 'genre_biography',\n",
    "'Comedy': 'genre_comedy',\n",
    "'Crime': 'genre_crime',\n",
    "'Documentary': 'genre_documentary',\n",
    "'Drama': 'genre_drama',\n",
    "'Family': 'genre_family',\n",
    "'Fantasy': 'genre_fantasy',\n",
    "'Game-Show': 'genre_gameshow',\n",
    "'History': 'genre_history',\n",
    "'Horror': 'genre_horror',\n",
    "'Music': 'genre_music',\n",
    "'Musical': 'genre_musical',\n",
    "'Mystery': 'genre_mystery',\n",
    "'News': 'genre_news',\n",
    "'Reality-TV': 'genre_realitytv',\n",
    "'Romance': 'genre_romance',\n",
    "'Sci-Fi': 'genre_scifi',\n",
    "'Short': 'genre_short',\n",
    "'Sport': 'genre_sport',\n",
    "'Talk-Show': 'genre_talkshow',\n",
    "'Thriller': 'genre_thriller',\n",
    "'War': 'genre_war',\n",
    "'Western': 'genre_western',\n",
    "}\n",
    "\n",
    "#update column names using above dictionary\n",
    "col_names = []\n",
    "for col in all_data.columns:\n",
    "    if col in genre_dict.keys():\n",
    "        col_names.append(genre_dict[col])\n",
    "    else:\n",
    "        col_names.append(col)\n",
    "all_data.columns = col_names\n",
    "\n",
    "\n",
    "# convert \"None\" values/types to NaN for easier manipulation and consistency\n",
    "all_data.fillna(value=np.nan, inplace=True) "
   ]
  },
  {
   "cell_type": "markdown",
   "metadata": {},
   "source": [
    "# Begin Analysis of Data"
   ]
  },
  {
   "cell_type": "code",
   "execution_count": 32,
   "metadata": {},
   "outputs": [],
   "source": [
    "#list columns containing genre data\n",
    "GENRES = list(genre_dict.values())\n",
    "\n",
    "\n",
    "#declare dictionaries to be filled\n",
    "profit_mean = {}\n",
    "profit_median = {}\n",
    "\n",
    "#calculate the mean and median profit for each genre\n",
    "for g in GENRES:\n",
    "    profit = all_data.loc[\n",
    "                        (all_data[g].isna() == False) &\n",
    "                        (all_data.profit.isna() == False) &\n",
    "                        (all_data[g] == True), \n",
    "                        'profit']\n",
    "    if str(profit.mean()) != 'nan':\n",
    "        profit_median[g[6:]] = round(profit.median(), 2)\n",
    "        profit_mean  [g[6:]] = round(profit.mean(), 2)"
   ]
  },
  {
   "cell_type": "code",
   "execution_count": 33,
   "metadata": {},
   "outputs": [
    {
     "data": {
      "image/png": "[encoded data removed]",
      "text/plain": [
       "<Figure size 1080x720 with 1 Axes>"
      ]
     },
     "metadata": {
      "needs_background": "light"
     },
     "output_type": "display_data"
    }
   ],
   "source": [
    "plt.figure(figsize=(15,10))\n",
    "plt.bar(list(profit_mean.keys()), list(profit_mean.values()))\n",
    "plt.xticks(rotation=90)\n",
    "plt.title('Average Profitability by Genre')\n",
    "plt.show()"
   ]
  },
  {
   "cell_type": "markdown",
   "metadata": {},
   "source": [
    "-\n",
    "-\n",
    "-\n",
    "-\n",
    "-\n",
    "-\n",
    "-\n",
    "-\n",
    "-\n",
    "-\n",
    "-\n",
    "\n",
    "# Popularity\n",
    "\n",
    "### It's about creating a name for the company, not just immediate profitability"
   ]
  },
  {
   "cell_type": "code",
   "execution_count": null,
   "metadata": {},
   "outputs": [],
   "source": [
    "all_data.columns"
   ]
  },
  {
   "cell_type": "code",
   "execution_count": null,
   "metadata": {},
   "outputs": [],
   "source": [
    "##### CREATE TEMPLATE (almost function) FOR MEAN AND MEDIAN CALCS #####\n",
    "\n",
    "CATEGORY = 'profit'\n",
    "\n",
    "#loop through full database, aggregating data by genre\n",
    "mean = {}\n",
    "median = {}\n",
    "for g in GENRES:\n",
    "    temp = all_data.loc[\n",
    "                        (all_data[g].isna() == False) &\n",
    "                        (all_data[CATEGORY].isna() == False) &\n",
    "                        (all_data[g] == True), \n",
    "                        CATEGORY]\n",
    "    if str(temp.mean()) != 'nan':\n",
    "        median[g[6:]] = round(temp.median(), 2)\n",
    "        mean  [g[6:]] = round(temp.mean(), 2)\n",
    "\n",
    "#convert dictionary to dataframe\n",
    "df_mean = pd.DataFrame(mean.items())\n",
    "df_median = pd.DataFrame(median.items())\n",
    "df_mean.columns = ['genre', CATEGORY]\n",
    "df_median.columns = ['genre', CATEGORY]\n",
    "\n",
    "#sort\n",
    "df_mean.sort_values(by=CATEGORY, ascending = False, inplace = True)\n",
    "df_median.sort_values(by=CATEGORY, ascending = False, inplace = True)\n",
    "\n",
    "#reindex\n",
    "df_mean.reset_index(inplace=True, drop=True)\n",
    "df_median.reset_index(inplace=True, drop=True) "
   ]
  },
  {
   "cell_type": "code",
   "execution_count": null,
   "metadata": {},
   "outputs": [],
   "source": [
    "#### PLOT DATA FROM PRECEDING CELL #####\n",
    "plt.figure(figsize=(10,5))\n",
    "plt.bar(df_mean.genre, df_mean[CATEGORY])\n",
    "plt.xticks(rotation=90)\n",
    "plt.title('Average {} by genre'.format(CATEGORY))\n",
    "plt.show()"
   ]
  },
  {
   "cell_type": "code",
   "execution_count": null,
   "metadata": {},
   "outputs": [],
   "source": [
    "plt.figure(figsize=(10,5))\n",
    "plt.bar(df_median.genre, df_median[CATEGORY])\n",
    "plt.xticks(rotation=90)\n",
    "plt.title('Median {} by genre'.format(CATEGORY))\n",
    "plt.show()"
   ]
  },
  {
   "cell_type": "code",
   "execution_count": null,
   "metadata": {},
   "outputs": [],
   "source": [
    "##### CREATE DATAFRAME FOR PERCENTILE RANKINGS OF PROFIT AND POPULARITY #####\n",
    "\n",
    "df_genre = pd.DataFrame(GENRES, GENRES)\n",
    "df_genre.columns = ['genre']\n",
    "    \n",
    "    \n",
    "####### PROFIT #######\n",
    "median = []\n",
    "for g in GENRES:\n",
    "    temp = all_data.loc[(all_data[g].isna() == False) & (all_data[CATEGORY].isna() == False) &\n",
    "                           (all_data[g] == True), 'profit']\n",
    "    if str(temp.mean()) != 'nan':\n",
    "        median.append(round(temp.median(), 2))\n",
    "    else:\n",
    "        median.append(0.0)\n",
    "df_genre['profit_median'] = median\n",
    "\n",
    "\n",
    "####### POPULARITY #######\n",
    "median = []\n",
    "for g in GENRES:\n",
    "    temp = all_data.loc[(all_data[g].isna() == False) & (all_data[CATEGORY].isna() == False) &\n",
    "                           (all_data[g] == True), 'popularity']\n",
    "    if str(temp.mean()) != 'nan':\n",
    "        median.append(round(temp.median(), 2))\n",
    "    else:\n",
    "        median.append(0.0)\n",
    "\n",
    "df_genre['popularity_median'] = median\n",
    "\n",
    "df_genre"
   ]
  },
  {
   "cell_type": "code",
   "execution_count": null,
   "metadata": {},
   "outputs": [],
   "source": [
    "##### PLOT PROFITABILITY RANKING AND POPULARITY RANKING SIDE BY SIDE ##### \n",
    "\n",
    "plt.rcParams[\"figure.figsize\"] = (20,10)\n",
    "\n",
    "# set width of bar\n",
    "barWidth = 0.25\n",
    " \n",
    "# set height of bar\n",
    "bars1 = df_genre['profit_median']\n",
    "bars2 = df_genre['popularity_median']\n",
    "x = df_genre['genre']\n",
    " \n",
    "# Set position of bar on X axis\n",
    "r1 = np.arange(len(x))\n",
    "r2 = [x + barWidth for x in r1]\n",
    " \n",
    "# Make the plot\n",
    "plt.bar(r1, bars1, color='b', width=barWidth, edgecolor='white', label='var1')\n",
    "plt.bar(r2, bars2, color='r', width=barWidth, edgecolor='white', label='var2')\n",
    " \n",
    "# Add xticks on the middle of the group bars\n",
    "plt.xlabel('Genre', fontweight='bold', fontsize=15)\n",
    "plt.xticks([r + barWidth for r in range(len(bars1))], x, rotation=90, fontsize=15)\n",
    " \n",
    "# Create legend & Show graphic\n",
    "plt.legend(['Profitability','Popularity'], fontsize=15)\n",
    "plt.title('Relative Profitability and Popularity for All Genres with Data', fontsize=15)\n",
    "plt.show()"
   ]
  },
  {
   "cell_type": "code",
   "execution_count": null,
   "metadata": {},
   "outputs": [],
   "source": [
    "df_genre "
   ]
  },
  {
   "cell_type": "code",
   "execution_count": null,
   "metadata": {},
   "outputs": [],
   "source": [
    "##### IDENTIFY UNPOPULAR GENRES AND REMOVE FROM ANALYSIS #####\n",
    "low_popularity = ['genre_adult', 'genre_gameshow', 'genre_war', 'genre_talkshow', 'genre_documentary', 'genre_short']\n",
    "df_popular = df_genre.drop(low_popularity)\n",
    "df_popular.sort_values(by='profit_median', inplace=True, ascending=False)\n",
    "\n",
    "df_popular"
   ]
  },
  {
   "cell_type": "code",
   "execution_count": null,
   "metadata": {},
   "outputs": [],
   "source": [
    "##### PLOT THE NEW DATASET AFTER DROPPING UNPOPULAR GENRES #####\n",
    "\n",
    "bars1 = df_popular['profit_median']\n",
    "bars2 = df_popular['popularity_median']\n",
    "x = df_popular['genre']\n",
    " \n",
    "# Set position of bar on X axis\n",
    "r1 = np.arange(len(x))\n",
    "r2 = [x + barWidth for x in r1]\n",
    " \n",
    "# Make the plot\n",
    "plt.bar(r1, bars1, color='b', width=barWidth, edgecolor='white', label='var1')\n",
    "plt.bar(r2, bars2, color='r', width=barWidth, edgecolor='white', label='var2')\n",
    " \n",
    "# Add xticks on the middle of the group bars\n",
    "plt.xlabel('Genre', fontweight='bold', fontsize=15)\n",
    "plt.xticks([r + barWidth for r in range(len(bars1))], x, rotation=90, fontsize=15)\n",
    " \n",
    "# Create legend & Show graphic\n",
    "plt.legend(['Profitability','Popularity'], fontsize=15)\n",
    "plt.title('Relative Profitability and Popularity for Popular Genres', fontsize=15)\n",
    "plt.show()"
   ]
  },
  {
   "cell_type": "code",
   "execution_count": null,
   "metadata": {},
   "outputs": [],
   "source": [
    "##### IDENTIFY LOW PROFIT GENRES AND DROP FROM ANALYSIS #####\n",
    "\n",
    "low_profit = ['genre_crime', 'genre_reality_tv', 'genre_western', 'genre_sport', 'genre_drama', 'genre_thriller']\n",
    "df_popular_profitable = df_popular.drop(low_profit)\n",
    "df_popular_profitable"
   ]
  },
  {
   "cell_type": "code",
   "execution_count": null,
   "metadata": {},
   "outputs": [],
   "source": [
    "df_popular_profitable.sort_values(by='popularity_median', inplace=True, ascending=False)\n",
    "\n",
    "bars1 = df_popular_profitable['profit_median']\n",
    "bars2 = df_popular_profitable['popularity_median']\n",
    "x = df_popular_profitable['genre']\n",
    " \n",
    "# Set position of bar on X axis\n",
    "#r1 = np.arange(len(x))\n",
    "#r2 = [x + barWidth for x in r1]\n",
    "\n",
    "\n",
    "\n",
    "\n",
    "\n",
    "fig, ax1 = plt.subplots()\n",
    "ax1.bar(x, bars1, color='r')#list(profit_mean.keys()), list(profit_mean.values()))\n",
    "\n",
    "\n",
    "ax2 = ax1.twinx() \n",
    "ax2.bar(x, bars2,color='g',alpha=0.5)#list(profit_mean.keys()), list(profit_mean.values()))\n",
    "#ax1.xticks(rotation=90)\n",
    "#ax1.title('Average Profitability by Genre')\n",
    "plt.show()"
   ]
  },
  {
   "cell_type": "code",
   "execution_count": null,
   "metadata": {},
   "outputs": [],
   "source": [
    "##### PLOT THE NEW DATASET AFTER DROPPING UNPOPULAR AND LOW PROFITABILITY GENRES #####\n",
    "\n",
    "df_popular_profitable.sort_values(by='popularity_median', inplace=True, ascending=False)\n",
    "\n",
    "bars1 = df_popular_profitable['profit_median']\n",
    "bars2 = df_popular_profitable['popularity_median']\n",
    "x = df_popular_profitable['genre']\n",
    " \n",
    "# Set position of bar on X axis\n",
    "r1 = np.arange(len(x))\n",
    "r2 = [x + barWidth for x in r1]\n",
    " \n",
    "# Make the plot\n",
    "plt.bar(r1, bars1, color='b', width=barWidth, edgecolor='white', label='var1')\n",
    "plt.bar(r2, bars2, color='r', width=barWidth, edgecolor='white', label='var2')\n",
    " \n",
    "# Add xticks on the middle of the group bars\n",
    "plt.xlabel('Genre', fontweight='bold', fontsize=15)\n",
    "plt.xticks([r + barWidth for r in range(len(bars1))], x, rotation=90, fontsize=15)\n",
    " \n",
    "    \n",
    "ax2 = ax1.twinx()\n",
    "    \n",
    "# Create legend & Show graphic\n",
    "plt.legend(['Profitability','Popularity'], fontsize=15)\n",
    "plt.title('Relative Profitability and Popularity for Profitable and Popular Genres', fontsize=15)\n",
    "plt.show()"
   ]
  },
  {
   "cell_type": "markdown",
   "metadata": {},
   "source": [
    "# Notes From Call with Joel\n",
    "\n",
    "- Consider frequency that each genre is produced. \n",
    "\n",
    "- Is there anything in this data that says starting with high popularity could lead to later profitability?\n",
    "\n",
    "- If popularity is so vital, need to define more clearly how that is narrowed. Then, take a look at the most popular movies; profile these aspects to see \"what works\" and what doesn't\n",
    "\n",
    "- Consider budgets too since that is especially relevant to companies breaking into a market\n",
    "\n",
    "- Anything from Runtime?\n",
    "\n",
    "- Look into top actors -- this could be something they would \"need\" to have in new films\n",
    "\n",
    "- Try to create distinction between that the popular and unpopular factors are\n",
    "\n",
    "- Tell them \"what they should care about, and what they shouldn't care about\". Second point is less necessary, but can be helpful\n",
    "\n",
    "- Popular includes number of films produced in that genre, not just ratings\n",
    "\n",
    "- Also look at distributions of this data, not just median. The company will also care about the confidence interval for these calculations."
   ]
  },
  {
   "cell_type": "code",
   "execution_count": null,
   "metadata": {},
   "outputs": [],
   "source": [
    "genre_columns = [\n",
    "       'genre_action', 'genre_adult',\n",
    "       'genre_adventure', 'genre_animation', 'genre_biography', 'genre_comedy',\n",
    "       'genre_crime', 'genre_documentary', 'genre_drama', 'genre_family',\n",
    "       'genre_fantasy', 'genre_gameshow', 'genre_history', 'genre_horror',\n",
    "       'genre_music', 'genre_musical', 'genre_mystery', 'genre_news',\n",
    "       'genre_reality_tv', 'genre_romance', 'genre_sci_fi', 'genre_short',\n",
    "       'genre_sport', 'genre_talkshow', 'genre_thriller', 'genre_war',\n",
    "       'genre_western']\n",
    "\n",
    "all_data\n",
    "\n",
    "ct = dict.fromkeys(genre_columns)\n",
    "for item in ct:\n",
    "    ct[item] = 0    \n",
    "\n",
    "\n",
    "for g in genre_columns:\n",
    "    #print('\\n\\n-----',g,'-----')\n",
    "    #print(all_data[g].value_counts()[1])\n",
    "    ct[g] = all_data[g].value_counts()[1]\n",
    "\n"
   ]
  },
  {
   "cell_type": "markdown",
   "metadata": {},
   "source": [
    "# VALUABLE ATTRIBUTES\n",
    "\n",
    "- median profitability of genre > __\n",
    "- median popularity of genre > __, as based on imdb ratings. \n",
    "    - movies with fewer than __ ratings were excluded\n",
    "- the genre must have a reasonably large following. this can be proxied by the number of films produced. An appropriate cutoff was determined to be 200 movies. "
   ]
  },
  {
   "cell_type": "code",
   "execution_count": null,
   "metadata": {},
   "outputs": [],
   "source": [
    "plt.hist(all_data['start_year'].loc[all_data['start_year']<=2020], bins=20)\n",
    "plt.title('As it turns out, the dataset only contains films 2010 and older', fontsize=25)\n",
    "plt.show()\n",
    "\n",
    "#all_data['start_year'].loc[all_data['start_year']<=2020].value_counts()"
   ]
  },
  {
   "cell_type": "markdown",
   "metadata": {},
   "source": [
    "# GRAPHICS FOR FINAL PRESENTATION: POPULARITY\n",
    "\n",
    "Create graphs showing the most popular genres\n",
    "\n"
   ]
  },
  {
   "cell_type": "code",
   "execution_count": null,
   "metadata": {},
   "outputs": [],
   "source": [
    "##### DOES POPULARITY LEAD TO PROFITABILITY?\n",
    "\n",
    "CATEGORY = 'profit'\n",
    "median = {}\n",
    "for g in GENRES:\n",
    "    temp = all_data.loc[\n",
    "                        (all_data[g].isna() == False) &\n",
    "                        (all_data[CATEGORY].isna() == False) &\n",
    "                        (all_data[g] == True), \n",
    "                        CATEGORY]\n",
    "    if str(temp.mean()) != 'nan':\n",
    "        median[g[6:]] = round(temp.median(), 2)\n",
    "df_profit = pd.DataFrame(median.items())\n",
    "\n",
    "\n",
    "CATEGORY = 'popularity'\n",
    "median = {}\n",
    "for g in GENRES:\n",
    "    temp = all_data.loc[\n",
    "                        (all_data[g].isna() == False) &\n",
    "                        (all_data[CATEGORY].isna() == False) &\n",
    "                        (all_data[g] == True), \n",
    "                        CATEGORY]\n",
    "    if str(temp.mean()) != 'nan':\n",
    "        median[g[6:]] = round(temp.median(), 2)\n",
    "df_popularity = pd.DataFrame(median.items())\n",
    "\n",
    "\n",
    "q = '''SELECT * FROM df_profit JOIN df_popularity USING ('0');'''\n",
    "df = pysqldf(q)\n",
    "df.columns = ['genre', 'profit', 'popularity']\n",
    "\n",
    "\n",
    "df = all_data[['tconst', 'profit', 'popularity']].dropna().reset_index(drop=True)\n",
    "QUANTILE = 0.01\n",
    "df = df.loc[(df.profit >= df.profit.quantile(QUANTILE)) & (df.profit <= df.profit.quantile(1-QUANTILE))].copy()\n",
    "df = df.loc[(df.popularity >= df.popularity.quantile(QUANTILE)) & (df.popularity <= df.popularity.quantile(1-QUANTILE))].copy()\n",
    "\n",
    "x = df.popularity\n",
    "y = df.profit\n",
    "# use the function regplot to make a scatterplot\n",
    "sns.regplot(x,y)\n",
    "#sns.plt.show()\n",
    " \n",
    "# Without regression fit:\n",
    "#sns.regplot(x=df[\"sepal_length\"], y=df[\"sepal_width\"], fit_reg=False)\n",
    "#sns.plt.show()\n",
    "\n",
    "\n",
    "corrMatrix = df[['popularity', 'profit']].dropna().corr()\n",
    "sns.heatmap(corrMatrix, annot=True)\n",
    "plt.title(\"Correlation between performance and popularity\", fontsize=15)"
   ]
  },
  {
   "cell_type": "code",
   "execution_count": null,
   "metadata": {},
   "outputs": [],
   "source": [
    "df_profit"
   ]
  },
  {
   "cell_type": "code",
   "execution_count": null,
   "metadata": {},
   "outputs": [],
   "source": []
  },
  {
   "cell_type": "code",
   "execution_count": null,
   "metadata": {},
   "outputs": [],
   "source": []
  },
  {
   "cell_type": "code",
   "execution_count": null,
   "metadata": {},
   "outputs": [],
   "source": []
  },
  {
   "cell_type": "code",
   "execution_count": null,
   "metadata": {},
   "outputs": [],
   "source": []
  },
  {
   "cell_type": "code",
   "execution_count": null,
   "metadata": {},
   "outputs": [],
   "source": []
  },
  {
   "cell_type": "code",
   "execution_count": null,
   "metadata": {},
   "outputs": [],
   "source": []
  },
  {
   "cell_type": "code",
   "execution_count": null,
   "metadata": {},
   "outputs": [],
   "source": []
  }
 ],
 "metadata": {
  "kernelspec": {
   "display_name": "Python 3",
   "language": "python",
   "name": "python3"
  },
  "language_info": {
   "codemirror_mode": {
    "name": "ipython",
    "version": 3
   },
   "file_extension": ".py",
   "mimetype": "text/x-python",
   "name": "python",
   "nbconvert_exporter": "python",
   "pygments_lexer": "ipython3",
   "version": "3.8.3"
  }
 },
 "nbformat": 4,
 "nbformat_minor": 4
}
