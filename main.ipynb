{
 "cells": [
  {
   "cell_type": "markdown",
   "metadata": {},
   "source": [
    "# Crafting a Successful Movie Studio\n",
    "\n",
    "**Author:** Seth Schober"
   ]
  },
  {
   "cell_type": "markdown",
   "metadata": {},
   "source": [
    "## Overview\n",
    "*** ***\n",
    "[one paragraph overview of the project, including the business problem, data, methods, results and recommendations]"
   ]
  },
  {
   "cell_type": "markdown",
   "metadata": {},
   "source": [
    "## Business Problem\n",
    "***\n",
    "This analysis seeks to make key determinations about the film industry that could be used as a starting point for a company looking to break into the industry. Specifically, it seeks to identify main factors that should be considered from a strategic standpoint. As a new business without industry knowledge, it is essential to dive deep into existing data to gain valuable insights. They will be discussed in depth below.\n",
    "\n",
    "From a business perspective, this analysis is essential to creating a profitable operation sustained by positive brand reputation and popularity. "
   ]
  },
  {
   "cell_type": "markdown",
   "metadata": {},
   "source": [
    "## Data Understanding\n",
    "\n",
    "***\n",
    "The data used in this analysis is all publicly available through the Internet Movie Database (IMDb), Rotten Tomatoes (RT), The Numbers (TN), and The Movie Database (TMDb). They provide extensive historical data about movie performance, as well as reviews, ratings, producers and more. \n",
    "\n",
    "The data has been broken into four separate categories: general, financial, reviews, and directors. \n",
    "- General data includes names, release data, synopses and more. It comes from IMDb, RT and TN. \n",
    "- Financial data includes revenue, budget, domestic/worldwide revenue, and profit. This data comes from The Numbers. \n",
    "- Review data is composed of crowdsourced feedback. It is available from RT and TMDb. This data is especially relevant given that consumer feedback is invaluable when investigating the feasibilty of business expansion.\n",
    "- Data on directors and cast is available from multiple source, though TN is used as the primary source for this analysis.\n",
    "\n",
    "These data sources will be aggregated as relevant to provide a more comprehensive understanding than could be provided by individual sources alone."
   ]
  },
  {
   "cell_type": "markdown",
   "metadata": {},
   "source": [
    "## Data Preparation\n",
    "\n",
    "***\n",
    "\n",
    "For the sake of clarity, specific comments about data preparation are made throughout the document, as opposed to listing them here."
   ]
  },
  {
   "cell_type": "markdown",
   "metadata": {},
   "source": [
    "**Import standard packages**\n",
    "\n",
    "These packages will be used throughout the analysis."
   ]
  },
  {
   "cell_type": "code",
   "execution_count": 1,
   "metadata": {},
   "outputs": [],
   "source": [
    "import numpy as np\n",
    "import pandas as pd\n",
    "import matplotlib.pyplot as plt\n",
    "import seaborn as sns\n",
    "import os\n",
    "from pandasql import sqldf\n",
    "import statistics\n",
    "\n",
    "pysqldf = lambda q: sqldf(q, globals())\n",
    "%matplotlib inline"
   ]
  },
  {
   "cell_type": "markdown",
   "metadata": {},
   "source": [
    "**Import data from external files**\n",
    "\n",
    "These CSV files contain the data previously downloaded from online. They are all located in the *data* folder of this directory. "
   ]
  },
  {
   "cell_type": "code",
   "execution_count": 2,
   "metadata": {},
   "outputs": [],
   "source": [
    "# basic film data from IMDb\n",
    "path = os.path.join('data','imdb.title.basics.csv')\n",
    "imdb_title_basics = pd.read_csv(path)\n",
    "\n",
    "# film review data from IMDb\n",
    "path = os.path.join('data','imdb.title.ratings.csv')\n",
    "imdb_title_ratings = pd.read_csv(path)\n",
    "\n",
    "# basic film data from Rotten Tomatoes\n",
    "path = os.path.join('data','rt.movie_info.tsv')\n",
    "rt_movie_info = pd.read_csv(path, delimiter = '\\t')\n",
    "\n",
    "# film review data from Rotten Tomatoes\n",
    "path = os.path.join('data','rt.reviews.tsv')\n",
    "rt_reviews = pd.read_csv(path, delimiter = '\\t', encoding= 'unicode_escape')\n",
    "\n",
    "# full dataset from TMDb (The Movie Database)\n",
    "# largely used for popularity ratings\n",
    "path = os.path.join('data','tmdb.movies.csv')\n",
    "tmdb_movies = pd.read_csv(path)\n",
    "\n",
    "# budget data from The Numbers\n",
    "path = os.path.join('data','tn.movie_budgets.csv')\n",
    "tn_movie_budgets = pd.read_csv(path)\n",
    "\n",
    "# top director metrics from The Numbers\n",
    "path = os.path.join('data', 'tn.top_directors.csv')\n",
    "tn_top_directors = pd.read_csv(path, encoding= 'unicode_escape') \n",
    "# source: https://www.the-numbers.com/box-office-star-records/worldwide/lifetime-specific-technical-role/director"
   ]
  },
  {
   "cell_type": "markdown",
   "metadata": {},
   "source": [
    "**Essential data cleaning**\n",
    "\n",
    "Below is a variety of changes that need to be made in order to maximize usability of the data. The specifics of each cleaning step are not discussed in depth for the sake of brevity."
   ]
  },
  {
   "cell_type": "code",
   "execution_count": 3,
   "metadata": {},
   "outputs": [],
   "source": [
    "# Clean data from Rotten Tomatoes\n",
    "# external csv files contain a simple map between current data and\n",
    "# reformatted data that can be used later in the analysis\n",
    "\n",
    "# import Studio cleaning dictionary\n",
    "path = os.path.join('cleaning_dicts','rt_studios.csv')\n",
    "df = pd.read_csv(path)\n",
    "studio_cleanup = dict(zip(df.old, df.new))\n",
    "\n",
    "# import Ratings cleaning dictionary\n",
    "path = os.path.join('cleaning_dicts','rt_ratings.csv')\n",
    "df = pd.read_csv(path)\n",
    "rating_cleanup = dict(zip(df.old, df.new))\n",
    "\n",
    "\n",
    "path = os.path.join('cleaning_dicts','rt_directors.csv')\n",
    "df = pd.read_csv(path)\n",
    "director_cleanup = dict(zip(df.old, df.new))\n",
    "\n",
    "\n",
    "# apply cleaning dictionary and drop unused columns\n",
    "rt_reviews['rating'] = rt_reviews['rating'].map(rating_cleanup)\n",
    "rt_movie_info['studio'] = rt_movie_info['studio'].map(studio_cleanup).fillna(rt_movie_info['studio'])\n",
    "\n",
    "\n",
    "# convert Fresh/Rotten column to binary 1/0 (i.e. good/bad)\n",
    "rt_reviews['fresh'] = rt_reviews['fresh'].map({'fresh':1, 'rotten':0})\n",
    "\n",
    "# converts \"None\" values/types to NaN for easier manipulation later\n",
    "imdb_title_basics.fillna(value=np.nan, inplace=True)\n",
    "imdb_title_ratings.fillna(value=np.nan, inplace=True)\n",
    "tmdb_movies.fillna(value=np.nan, inplace=True)\n",
    "tn_movie_budgets.fillna(value=np.nan, inplace=True)\n",
    "rt_movie_info.fillna(value=np.nan, inplace=True)\n",
    "rt_reviews.fillna(value=np.nan, inplace=True)"
   ]
  },
  {
   "cell_type": "code",
   "execution_count": 4,
   "metadata": {},
   "outputs": [],
   "source": [
    "# Drop unused columns for simplicity downstream\n",
    "\n",
    "rt_movie_info.drop(['synopsis', 'runtime', 'rating', 'dvd_date', \n",
    "                    'currency', 'rating', 'theater_date', 'writer'], \n",
    "                     axis=1, inplace=True)\n",
    "\n",
    "rt_reviews.drop(['review', 'publisher', 'critic', 'top_critic', 'date'], \n",
    "                axis=1, inplace=True)\n",
    "\n",
    "imdb_title_basics.drop(['original_title', 'start_year', 'runtime_minutes']\n",
    "                       , axis=1, inplace=True)\n",
    "\n",
    "tmdb_movies.drop(['Unnamed: 0', 'original_title', 'id', \n",
    "                  'original_language', 'genre_ids', 'vote_average',\n",
    "                  'vote_count', 'release_date'], axis=1, inplace=True)\n",
    "\n",
    "tn_movie_budgets.drop(['id', 'release_date'], axis=1, inplace=True)"
   ]
  },
  {
   "cell_type": "markdown",
   "metadata": {},
   "source": [
    "**Clean financial data**\n",
    "\n",
    "Below is the manual scrubbing of monetary data. In most cases, non-numeric values needed to be converted to floats. All data comes from TN."
   ]
  },
  {
   "cell_type": "code",
   "execution_count": 5,
   "metadata": {},
   "outputs": [],
   "source": [
    "# rename to make analysis easier to follow\n",
    "finance = tn_movie_budgets.copy()\n",
    "\n",
    "\n",
    "# remove '$' and ',' then convert to float\n",
    "production_budget = [float(x.replace('$', '').replace(',',''))\n",
    "                     for x in finance['production_budget']] \n",
    "domestic_gross = [float(x.replace('$', '').replace(',','')) \n",
    "                  for x in finance['domestic_gross']]\n",
    "worldwide_gross = [float(x.replace('$', '').replace(',','')) \n",
    "                   for x in finance['worldwide_gross']]\n",
    "\n",
    "\n",
    "# input recently cleaned data back into finance dataframe\n",
    "finance['production_budget'] = production_budget\n",
    "finance['domestic_gross'] = domestic_gross\n",
    "finance['worldwide_gross'] = worldwide_gross\n",
    "\n",
    "# calculate profit as gross revenue minus production budget\n",
    "finance['profit'] = finance['worldwide_gross'] - finance['production_budget']"
   ]
  },
  {
   "cell_type": "markdown",
   "metadata": {},
   "source": [
    "**Clean genre data**\n",
    "\n",
    "IMDb provides extensive data categorizing movies into genres. Unfortunately, the format they provide isn't especially convenient for the analysis. The below cell provides the solution. Since movies can be classified into multiple genres, those genres are simple listed, comma separated, in one cell for each more. Below, this information is separated such that each genre is allocated its own column. The values in that column are then binary, representing whether or not the selected movie is categorized in that genre, amongst others."
   ]
  },
  {
   "cell_type": "code",
   "execution_count": 6,
   "metadata": {},
   "outputs": [],
   "source": [
    "# gather full list of genres from IMDb database\n",
    "genres_messy = imdb_title_basics['genres'].dropna().unique()\n",
    "genres_clean = []\n",
    "\n",
    "# separate comma-separated genres within each cell to generate\n",
    "# a list of all genres\n",
    "for g in genres_messy:\n",
    "    for g_split in g.split(','):\n",
    "        genres_clean.append(g_split)\n",
    "\n",
    "# remove duplicates\n",
    "genres_clean = list(set(genres_clean))\n",
    "genres_clean.sort()\n",
    "\n",
    "\n",
    "#create dataframe containing only genre data for each film\n",
    "df = imdb_title_basics\n",
    "binary_genres = df.loc[df['genres'].isna() == False].copy()\n",
    "\n",
    "# create a column for each genre\n",
    "# assign a binary 1/0 for the film's genre classification\n",
    "for col in genres_clean:\n",
    "    binary_genres[col] = [col in x for x in binary_genres['genres']]"
   ]
  },
  {
   "cell_type": "markdown",
   "metadata": {},
   "source": [
    "**Aggregate data to create one DataFrame containing everything used in the remainder of the analysis**\n",
    "\n",
    "Use SQL to join data from multiple sources into one cohesive dataset."
   ]
  },
  {
   "cell_type": "code",
   "execution_count": null,
   "metadata": {},
   "outputs": [],
   "source": [
    "# renaming now makes the SQL join cleaner\n",
    "finance = finance.rename(columns = {'movie': 'primary_title'})\n",
    "tmdb_movies = tmdb_movies.rename(columns = {'title': 'primary_title'})\n",
    "\n",
    "# write query\n",
    "q = ''' SELECT * FROM imdb_title_basics\n",
    "LEFT JOIN finance USING (primary_title) \n",
    "LEFT JOIN tmdb_movies USING (primary_title)\n",
    "LEFT JOIN binary_genres USING (tconst);'''\n",
    "\n",
    "# Use SQL to join relevant dataframes\n",
    "all_data = pysqldf(q)\n",
    "all_data.drop(['primary_title', 'genres'], axis=1, inplace=True)"
   ]
  },
  {
   "cell_type": "markdown",
   "metadata": {},
   "source": [
    "## Data Analysis Phase 1: The Impact of Genre\n",
    "\n",
    "This phase of the analysis explores how performance varies by genre. Performance is measured in terms of popularity ratings, as provided by TMDB, and overall profit generation. \n",
    "\n",
    "Note that the mean is used for popularity metrics given that they are on a pre-set point scale, thus eliminating the likelihood of outliers. The median is used in areas where outliers are prevalent."
   ]
  },
  {
   "cell_type": "markdown",
   "metadata": {},
   "source": [
    "**Create an empty dataframe**\n",
    "\n",
    "df_genres is used extensively in the remainder of the analysis, as it will contain data aggregated at the genre level, both in terms of mean and median. "
   ]
  },
  {
   "cell_type": "code",
   "execution_count": null,
   "metadata": {},
   "outputs": [],
   "source": [
    "df_genres = pd.DataFrame(genres_clean)\n",
    "df_genres.columns = ['genre']\n",
    "df_genres.sort_values(by='genre', inplace=True)\n",
    "df_genres.reset_index(inplace=True, drop=True)"
   ]
  },
  {
   "cell_type": "markdown",
   "metadata": {},
   "source": [
    "**Add financial performance data**\n",
    "\n",
    "Create new columns corresponding to the mean and median profit for each genre. A 'rank' column is also created to more easily understand the data when in tabular format."
   ]
  },
  {
   "cell_type": "code",
   "execution_count": null,
   "metadata": {},
   "outputs": [],
   "source": [
    "# Calculate the mean and median profit for each genre\n",
    "profit_median = []\n",
    "profit_mean = []\n",
    "for g in genres_clean:\n",
    "    profit = all_data.loc[(all_data['profit'].isna() == False) &\n",
    "                          (all_data[g] == True), 'profit']\n",
    "    profit_median.append(profit.median())\n",
    "    profit_mean.append(profit.mean())\n",
    "\n",
    "# append these values to the genre dataframe\n",
    "df_genres['profit_median'] = profit_median\n",
    "df_genres['profit_mean'] = profit_mean\n",
    "\n",
    "\n",
    "# Add column to rank the median profit of each genre\n",
    "df_genres.sort_values(by='profit_median', ascending=False, inplace=True)\n",
    "rank = df_genres.reset_index(drop=True).index\n",
    "df_genres['profit_rank'] = list(rank)"
   ]
  },
  {
   "cell_type": "markdown",
   "metadata": {},
   "source": [
    "**Add popularity metrics**\n",
    "\n",
    "The popularity values are provided by TMDb. A process similar to the financial analysis cell above is completed below"
   ]
  },
  {
   "cell_type": "code",
   "execution_count": null,
   "metadata": {},
   "outputs": [],
   "source": [
    "# Calculate the mean and median popularity for each genre\n",
    "pop_median = []\n",
    "pop_mean = []\n",
    "for g in genres_clean:\n",
    "    pop = all_data.loc[(all_data['popularity'].isna() == False) &\n",
    "                       (all_data[g] == True), 'popularity']\n",
    "    pop_median.append(pop.median())\n",
    "    pop_mean.append(pop.mean())\n",
    "    \n",
    "# append these values to the genre dataframe\n",
    "df_genres['popularity_median'] = pop_median\n",
    "df_genres['popularity_mean'] = pop_mean\n",
    "\n",
    "\n",
    "# Add column to rank the median popularity of each genre\n",
    "df_genres.sort_values(by='popularity_mean', ascending=False, inplace=True)\n",
    "rank = df_genres.reset_index(drop=True).index\n",
    "df_genres['popularity_rank'] = list(rank)"
   ]
  },
  {
   "cell_type": "markdown",
   "metadata": {},
   "source": [
    "**Add metric for the number of movies in each genre**\n",
    "\n",
    "It is helpful to know how many movies are contained within each genre in order to evaluate how prevalent the genre is in the film industry. "
   ]
  },
  {
   "cell_type": "code",
   "execution_count": null,
   "metadata": {},
   "outputs": [],
   "source": [
    "# Calculate the total number of movies belonging to each genre\n",
    "movie_ct = []\n",
    "for g in genres_clean:\n",
    "    ct = all_data.loc[(all_data[g] == True), g]\n",
    "    movie_ct.append(ct.sum())\n",
    "\n",
    "# add column with count data\n",
    "df_genres['movie_ct'] = movie_ct\n",
    "df_genres.dropna(inplace=True)"
   ]
  },
  {
   "cell_type": "markdown",
   "metadata": {},
   "source": [
    "**Remove genres that have few movies, as it is an indicator of an overall small demand for films in that genre**"
   ]
  },
  {
   "cell_type": "code",
   "execution_count": null,
   "metadata": {},
   "outputs": [],
   "source": [
    "MIN_MOVIE_CT = 2000\n",
    "\n",
    "df_genres = df_genres.loc[df_genres['movie_ct'] > MIN_MOVIE_CT].copy()\n",
    "df_genres.sort_values(by='movie_ct', inplace=True)"
   ]
  },
  {
   "cell_type": "code",
   "execution_count": null,
   "metadata": {},
   "outputs": [],
   "source": [
    "df_genres.sort_values(by='genre')"
   ]
  },
  {
   "cell_type": "markdown",
   "metadata": {},
   "source": [
    "**Determine the most successful genres overall**\n",
    "\n",
    "Consider both profitability and popularity to determine which genres are most lucrative. From the start, exclude movies that are especially poorly ranked by either metric. "
   ]
  },
  {
   "cell_type": "code",
   "execution_count": null,
   "metadata": {},
   "outputs": [],
   "source": [
    "# These numbers are based on a close, manual analysis of the \n",
    "# data. Future studies will use statistical methods instead. \n",
    "min_profitrank = 20\n",
    "min_poprank = 20\n",
    "num_to_include_in_leaders = 4\n",
    "\n",
    "leading_genres = df_genres.loc[(df_genres['profit_rank'] <= min_profitrank)].copy()\n",
    "leading_genres = df_genres.loc[(df_genres['popularity_rank'] <= min_poprank)].copy()\n",
    "leading_genres.sort_values(by='popularity_mean', ascending=False, inplace=True)\n",
    "leading_genres = leading_genres.iloc[:num_to_include_in_leaders].copy()\n",
    "leading_genres"
   ]
  },
  {
   "cell_type": "markdown",
   "metadata": {},
   "source": [
    "**Isolate the genres that are *not* leaders**\n",
    "\n",
    "The analysis starts with a copy of the whole genre dataframe. It then loops over the columns to see if they are already in the leading genre list. If they aren't they are instead added to the Trailing Genres dataframe."
   ]
  },
  {
   "cell_type": "code",
   "execution_count": null,
   "metadata": {},
   "outputs": [],
   "source": [
    "# declare copy from which columns will be dropped\n",
    "trailing_genres = df_genres.copy()\n",
    "\n",
    "for g in list(df_genres['genre']):\n",
    "    if g in list(leading_genres['genre']):\n",
    "        x = df_genres.loc[df_genres.genre == g].index\n",
    "        trailing_genres.drop(index=x, inplace=True)\n",
    "trailing_genres"
   ]
  },
  {
   "cell_type": "markdown",
   "metadata": {},
   "source": [
    "**Aggregate non-optimal genres into \"All Others\" bucket**\n",
    "\n",
    "Having \"All Others\" beside the top performers serves as a helpfyl valuation of genres that are *not* in the top performers as a means of comparison and frame of reference."
   ]
  },
  {
   "cell_type": "code",
   "execution_count": null,
   "metadata": {},
   "outputs": [],
   "source": [
    "# declare empty lists to be appended to\n",
    "pop_agg = []\n",
    "profit_agg = []\n",
    "ct = 0\n",
    "\n",
    "# loop through each genre not in the \"Leaders\" category\n",
    "# append any corresponding values to the aggregate list\n",
    "for g in list(trailing_genres['genre']):\n",
    "    pop = all_data.loc[(all_data['popularity'].isna() == False) & \n",
    "                       (all_data[g] == True), 'popularity']\n",
    "    pop_agg.append(list(pop))\n",
    "\n",
    "    profit = all_data.loc[(all_data['profit'].isna() == False) &\n",
    "                          (all_data[g] == True), 'profit']\n",
    "    profit_agg.append(list(profit))\n",
    "\n",
    "    ct += len(all_data.loc[(all_data['tconst'].isna() == False) & \n",
    "                           (all_data[g] == True), 'tconst'])\n",
    "\n",
    "# currently formatted as lists of lists. Make into one list instead,\n",
    "# then calculate key metrics\n",
    "profit_flat = [val for sublist in profit_agg for val in sublist]\n",
    "profit_median = statistics.median(profit_flat)\n",
    "profit_mean = statistics.mean(profit_flat)\n",
    "    \n",
    "# currently formatted as lists of lists. Make into one list instead,\n",
    "# then calculate key metrics    \n",
    "pop_flat = [val for sublist in pop_agg for val in sublist]\n",
    "pop_median = statistics.median(pop_flat)\n",
    "pop_mean = statistics.mean(pop_flat)\n",
    "rank = leading_genres.profit_rank.max() + 1\n",
    "\n",
    "# add an \"All Others\" category to be plotted alongside top performers\n",
    "leading_genres = leading_genres.append({'genre': 'All Others',\n",
    "                       'profit_median': profit_median,\n",
    "                       'profit_mean': profit_mean,\n",
    "                       'profit_rank': rank,\n",
    "                       'popularity_median': pop_median,\n",
    "                       'popularity_mean':pop_mean,\n",
    "                       'popularity_rank':rank,\n",
    "                       'movie_ct': ct}, ignore_index=True)"
   ]
  },
  {
   "cell_type": "code",
   "execution_count": null,
   "metadata": {},
   "outputs": [],
   "source": [
    "leading_genres.sort_values(by='popularity_rank')"
   ]
  },
  {
   "cell_type": "markdown",
   "metadata": {},
   "source": [
    "### Plot results\n",
    "\n",
    "How do the genres compare?"
   ]
  },
  {
   "cell_type": "code",
   "execution_count": null,
   "metadata": {},
   "outputs": [],
   "source": [
    "# organize for bar chart\n",
    "leading_genres.sort_values(by='popularity_mean', \n",
    "                           ascending=False, inplace=True)\n",
    "\n",
    "# declare variables to be graphed\n",
    "x = leading_genres['genre']\n",
    "y = leading_genres['popularity_mean']\n",
    "\n",
    "# declare figure and axis. Set values accordingly.\n",
    "f, ax = plt.subplots(1, 1, figsize=(18, 6.5), sharex=True)\n",
    "sns.set_context('talk') \n",
    "sns.set_palette(\"Reds_r\")\n",
    "sns.barplot(data = leading_genres, \n",
    "            y = 'genre', \n",
    "            x = 'popularity_mean', \n",
    "            ax=ax, \n",
    "            palette='Reds_r', orient='h')\n",
    "plt.ylabel('')\n",
    "plt.xlabel('Popularity', fontsize=22)\n",
    "#ax.set(xlim=(0,10))\n",
    "ax.set_title('Popular Success of Leading Genres', fontsize=22)\n",
    "plt.xticks(fontsize=18)\n",
    "plt.yticks(fontsize=20)\n",
    "plt.savefig('images/Popular Success of Leading Genres.png')\n",
    "plt.show()"
   ]
  },
  {
   "cell_type": "markdown",
   "metadata": {},
   "source": [
    "### Now that we know \"what is popular\", how does popularity affect the profitability of a film?\n",
    "\n",
    "This portion of the analysis takes a subset of the full movie database, specifically, those within the target genres, and investigates the relationship between profitability and popularity."
   ]
  },
  {
   "cell_type": "code",
   "execution_count": null,
   "metadata": {},
   "outputs": [],
   "source": [
    "# Create a starting dataframe based off the full dataset\n",
    "df = all_data.dropna().copy()\n",
    "\n",
    "# Gather lists of the profit and popularity values for every\n",
    "# film within the leading genres\n",
    "prof = []\n",
    "pop = []\n",
    "for g in list(leading_genres.genre):\n",
    "    if g == 'All Others':\n",
    "        pass\n",
    "    else:\n",
    "        x = df.loc[df[g]==True]\n",
    "        prof.append(list(x['profit']))\n",
    "        pop.append(list(x['popularity']))\n",
    "\n",
    "        \n",
    "# currently formatted as lists of lists. Make each pop and prof\n",
    "# into their own single-layer lists instead\n",
    "prof_flat = [val for sublist in prof for val in sublist]\n",
    "pop_flat = [val for sublist in pop for val in sublist]\n",
    "\n",
    " \n",
    "# remove profit outliers by calculating the std dev and median\n",
    "profit_std = statistics.pstdev(prof_flat)\n",
    "profit_med = statistics.median(prof_flat)\n",
    "profit_lo = profit_med - 3 * profit_std\n",
    "profit_hi = profit_med + 3 * profit_std\n",
    "prof_outlier = df.loc[(df['profit'] > profit_hi) | \n",
    "            (df['profit'] < profit_lo)]\n",
    "\n",
    "# remove popularity outliers by calculating the std dev and median\n",
    "pop_std = statistics.pstdev(pop_flat)\n",
    "pop_med = statistics.median(pop_flat)\n",
    "pop_lo = pop_med - 3 * pop_std\n",
    "pop_hi = pop_med + 3 * pop_std\n",
    "pop_outlier = df.loc[(df['popularity'] > pop_hi) | \n",
    "            (df['popularity'] < pop_lo)]\n",
    "\n",
    "# remove outliers from the dataset\n",
    "df = df.drop(pop_outlier.index.append(prof_outlier.index)).copy()\n",
    "df = df[['profit', 'popularity']].copy()\n",
    "\n",
    "# plot\n",
    "corrMatrix = df.corr()\n",
    "sns.heatmap(corrMatrix, annot=True)\n",
    "plt.title(\"Correlation between popularity and profit\", fontsize=15)\n",
    "plt.show()"
   ]
  },
  {
   "cell_type": "markdown",
   "metadata": {},
   "source": [
    "**Plot this relationship via scatter plot**"
   ]
  },
  {
   "cell_type": "code",
   "execution_count": null,
   "metadata": {
    "scrolled": true
   },
   "outputs": [],
   "source": [
    "# represent profits in millions for graphical clarity\n",
    "df['profit'] = df['profit']/10**6\n",
    "\n",
    "#set themes and create figure\n",
    "sns.set_context('talk') \n",
    "sns.set_palette(\"Reds_r\")\n",
    "f, ax = plt.subplots(1, 1, figsize=(12, 6), sharex=True)\n",
    "\n",
    "# downsample data a bit to make scatterplot easier to visually interpret\n",
    "dfSample = df.sample(2500)\n",
    "xdataSample, ydataSample = dfSample[\"popularity\"], dfSample[\"profit\"]\n",
    "\n",
    "# produce plot\n",
    "sns.regplot(x=xdataSample, y=ydataSample, ax=ax) \n",
    "plt.xlabel('Popularity Rating')\n",
    "plt.ylabel('Movie Profit (Million $)')\n",
    "ax.set_title('Effect of Popularity on Financial Success')\n",
    "plt.savefig('images/Effect of Popularity on Financial Success.png')\n",
    "plt.show()"
   ]
  },
  {
   "cell_type": "markdown",
   "metadata": {},
   "source": [
    "## Analysis Phase 2: The Impact of the Director\n",
    "\n",
    "Phase 2 steps away from the genre-focused analysis of Phase 1 and instead looks at the impact a director can have on movie success."
   ]
  },
  {
   "cell_type": "markdown",
   "metadata": {},
   "source": [
    "**Basic cleaning of rotten tomatoes datasets**"
   ]
  },
  {
   "cell_type": "code",
   "execution_count": null,
   "metadata": {},
   "outputs": [],
   "source": [
    "#minimum number of reviews to be considered\n",
    "MINIMUM_FRESHOMETER = 5 \n",
    "\n",
    "# create two dataframes for two separate measures of performance\n",
    "freshness = pd.DataFrame([rt_reviews.id.unique()], index=['id']).transpose()\n",
    "rating = pd.DataFrame([rt_reviews.id.unique()], index=['id']).transpose()\n",
    "\n",
    "for movie_id in freshness['id']:\n",
    "    fresh =  rt_reviews.loc[rt_reviews['id'] == movie_id, 'fresh']\n",
    "    rating = rt_reviews.loc[rt_reviews['id'] == movie_id, 'rating']\n",
    "\n",
    "    review_ct = rt_reviews.loc[rt_reviews['id'] == movie_id, 'fresh'].size\n",
    "    if  review_ct >= MINIMUM_FRESHOMETER:\n",
    "        freshness.loc[freshness['id'] == movie_id, 'fresh'] = fresh.mean() \n",
    "        freshness.loc[freshness['id'] == movie_id, 'rating'] = rating.mean()\n",
    "\n",
    "freshness = freshness.dropna()"
   ]
  },
  {
   "cell_type": "markdown",
   "metadata": {},
   "source": [
    "**Aggregate datasets**"
   ]
  },
  {
   "cell_type": "code",
   "execution_count": null,
   "metadata": {
    "scrolled": true
   },
   "outputs": [],
   "source": [
    "# SQL join of the two Rotten Tomatoes datasets\n",
    "rt = pysqldf(''' \n",
    "SELECT * FROM rt_movie_info\n",
    "LEFT JOIN freshness USING (id);''')\n",
    "\n",
    "\n",
    "# if not already a float, remove ',' and convert to float\n",
    "clean = []\n",
    "for x in rt['box_office']:\n",
    "    if type(x) == type('abc'):\n",
    "        clean.append(float(x.replace(',','')))\n",
    "    else:\n",
    "        clean.append(x)\n",
    "\n",
    "# update column in dataframe with floats\n",
    "rt['box_office'] = clean"
   ]
  },
  {
   "cell_type": "markdown",
   "metadata": {},
   "source": [
    "**Aggregate data for each director**\n",
    "\n",
    "In many cases, there are multiple directors. This loop is necessary to split the string into each director separately. The \"counts\" values correspond to the number of films directed by the corresponding director."
   ]
  },
  {
   "cell_type": "code",
   "execution_count": null,
   "metadata": {},
   "outputs": [],
   "source": [
    "director_counts_dict = {}\n",
    "directors = rt['director'].loc[rt['director'].isna()==False]\n",
    "for name in directors:\n",
    "    for name_split in name.split(sep = '|'):\n",
    "        if name_split in director_counts_dict.keys():\n",
    "            director_counts_dict[name_split] += 1\n",
    "        else:\n",
    "            director_counts_dict[name_split] = 1\n",
    "\n",
    "director_counts_df = pd.Series(director_counts_dict).sort_values(ascending=False)"
   ]
  },
  {
   "cell_type": "markdown",
   "metadata": {},
   "source": [
    "**Compare the performance of each director to identify the top performers**\n",
    "\n",
    "The top_directors dataframe contains a list of the top 1000 directors, as provided by TN. It appears their main criteria is the worldwide box office revenue, whereas when considering hiring a director, there are other important aspects. For example, a \"one-hit wonder\" isn't a great person to put at the helm of the new production, even if their one film did produce well. \n",
    "\n",
    "As a metric of overall performance consistency, the list gets narrowed below by saying the director must have produced a proportionally large number of movies. This large number is approximated as anything more than one standard deviation above median. Producing more movies in a measure of bredth of experience relative to peers. "
   ]
  },
  {
   "cell_type": "code",
   "execution_count": null,
   "metadata": {},
   "outputs": [],
   "source": [
    "tn_top_directors"
   ]
  },
  {
   "cell_type": "code",
   "execution_count": null,
   "metadata": {},
   "outputs": [],
   "source": [
    "top_directors = tn_top_directors.copy()\n",
    "movies = top_directors.movies\n",
    "min_movies_to_qualify = movies.std() + movies.median()\n",
    "\n",
    "# when recommending a top director, it is important \n",
    "# that they aren't dead or (i.e. 'out of service'). This is a \n",
    "# manually compiled list of directors who appeared at the\n",
    "# top of the list but who cannot be recommended\n",
    "OUT_OF_SERVICE = ['Clint Eastwood']\n",
    "\n",
    "for i, director in enumerate(OUT_OF_SERVICE):\n",
    "    index_director = top_directors.loc[top_directors.name==OUT_OF_SERVICE[i]].index\n",
    "    top_directors.drop(index=index_director, inplace=True)\n",
    "\n",
    "top_directors = top_directors.loc[top_directors['movies'] > min_movies_to_qualify]\n",
    "\n",
    "# rank the directors into four tiers\n",
    "# the number assigned to each bucket is less relevant as the\n",
    "# goal is to show an overall trend\n",
    "t1 = 5\n",
    "t2 = 25\n",
    "t3 = 50\n",
    "t4 = 100\n",
    "\n",
    "# place each director into tier 1-4\n",
    "# based on their worldwide_box_office after having \n",
    "# filtered out directors to include those with higher # of films\n",
    "# directed (i.e. not 'one hit wonders')\n",
    "tier1 = top_directors.iloc[0: t1]['average'].median()/10**6\n",
    "tier2 = top_directors.iloc[t1: t2]['average'].median()/10**6\n",
    "tier3 = top_directors.iloc[t2: t3]['average'].median()/10**6\n",
    "tier4 = top_directors.iloc[t3:]['average'].median()/10**6"
   ]
  },
  {
   "cell_type": "markdown",
   "metadata": {},
   "source": [
    "**Plot Findings**\n",
    "\n",
    "The bar plot shows how drastically the director can impact profit. The table also lists the top five directors, as identified by this analysis."
   ]
  },
  {
   "cell_type": "code",
   "execution_count": null,
   "metadata": {},
   "outputs": [],
   "source": [
    "sns.set_context('talk') \n",
    "palette = sns.color_palette(\"Reds_r\")\n",
    "f, ax = plt.subplots(1, 1, figsize=(9, 6), sharex=True)\n",
    "\n",
    "x = [f'Top {t1}', \n",
    "     f'Top {t1+1}-{t2}', \n",
    "     f'Top {t2+1}-{t3}', \n",
    "     f'Top {t3+1}-{t4}']\n",
    "y = [tier1, tier2, tier3, tier4]\n",
    "\n",
    "sns.barplot(x=x, y=y, ax=ax, palette=palette)\n",
    "ax.axhline(0, color=\"k\", clip_on=False)\n",
    "ax.set_xlabel('Director Ranking by Past Performance', fontsize=20)\n",
    "ax.set_ylabel(\"Median Profit per Movie (Million $)\", fontsize=20)\n",
    "ax.set_title('Impact of Director Selection on Profit', fontsize=22)\n",
    "sns.despine(bottom=True)\n",
    "plt.xticks(fontsize=20)\n",
    "plt.yticks(fontsize=20)\n",
    "plt.savefig('images/Impact of Director Selection on Profit.png')\n",
    "\n",
    "\n",
    "ct = 5\n",
    "table = top_directors[['name']].iloc[:ct]\n",
    "table.index = range(1,ct+1)\n",
    "table.columns = [f'Top {ct} Directors']\n",
    "table"
   ]
  },
  {
   "cell_type": "markdown",
   "metadata": {},
   "source": [
    "# Investigation Evaluation\n",
    "\n",
    "Evaluate how well your work solves the stated business problem.\n",
    "\n",
    "***\n",
    "Questions to consider:\n",
    "* How do you interpret the results?\n",
    "* How well does your model fit your data? How much better is this than your baseline model?\n",
    "* How confident are you that your results would generalize beyond the data you have?\n",
    "* How confident are you that this model would benefit the business if put into use?\n",
    "***"
   ]
  },
  {
   "cell_type": "markdown",
   "metadata": {},
   "source": [
    "## Conclusions\n",
    "Provide your conclusions about the work you've done, including any limitations or next steps.\n",
    "\n",
    "***\n",
    "Questions to consider:\n",
    "* What would you recommend the business do as a result of this work?\n",
    "* What are some reasons why your analysis might not fully solve the business problem?\n",
    "* What else could you do in the future to improve this project?\n",
    "***"
   ]
  }
 ],
 "metadata": {
  "kernelspec": {
   "display_name": "Python 3",
   "language": "python",
   "name": "python3"
  },
  "language_info": {
   "codemirror_mode": {
    "name": "ipython",
    "version": 3
   },
   "file_extension": ".py",
   "mimetype": "text/x-python",
   "name": "python",
   "nbconvert_exporter": "python",
   "pygments_lexer": "ipython3",
   "version": "3.8.3"
  }
 },
 "nbformat": 4,
 "nbformat_minor": 4
}
