{
 "cells": [
  {
   "cell_type": "markdown",
   "metadata": {},
   "source": [
    "# General Findings & Commentary"
   ]
  },
  {
   "cell_type": "markdown",
   "metadata": {},
   "source": [
    "\n",
    "## Popularity\n",
    "\n",
    "### It's about creating a name for the company, not just immediate profitability"
   ]
  },
  {
   "cell_type": "markdown",
   "metadata": {},
   "source": [
    "## Studios\n",
    "Possible future avenues for determining the top studios is performance over time. When were they last active? etc..."
   ]
  },
  {
   "cell_type": "markdown",
   "metadata": {},
   "source": [
    "## Regarding gross revenue\n",
    "\n",
    "It appears that both *Box Office Mojo* and *The Numbers* provide metrics for domestic gross revenue. However, they don't always match. Initially, *Box Office Mojo* rounds their values significantly, but it is more than that. In some cases, it is within a margin of error/difference, but in other cases it is way off. The below histogram shows the *percent difference* between the two data sets, only included movies for which both datasets provide data. Values from *The Numbers* are rounded to the same extent as *Box Office Mojo*. In a scenario of two equal datasets, the percent difference for all values in the histogram would be exactly equal. Obviously, this isn't the case."
   ]
  },
  {
   "cell_type": "code",
   "execution_count": 9,
   "metadata": {},
   "outputs": [
    {
     "data": {
      "image/png": "[encoded data removed]",
      "text/plain": [
       "<Figure size 432x288 with 1 Axes>"
      ]
     },
     "metadata": {
      "needs_background": "light"
     },
     "output_type": "display_data"
    }
   ],
   "source": [
    "import pandas as pd\n",
    "import matplotlib.pyplot as plt\n",
    "from pandasql import sqldf\n",
    "pysqldf = lambda q: sqldf(q, globals())\n",
    "\n",
    "#import from CSV\n",
    "df_bom_movie_gross = pd.read_csv('data/bom.movie_gross.csv')\n",
    "df_tn_movie_budgets = pd.read_csv('data/tn.movie_budgets.csv')\n",
    "\n",
    "#Combine two movie budget dataframes\n",
    "q = '''\n",
    "SELECT * \n",
    "FROM df_tn_movie_budgets tn\n",
    "LEFT JOIN df_bom_movie_gross bom\n",
    "ON tn.movie == bom.title\n",
    "WHERE bom.domestic_gross > 0\n",
    ";'''\n",
    "finances = pysqldf(q)\n",
    "\n",
    "\n",
    "\n",
    "#Round domestic gross values from The Numbers\n",
    "temp = pd.DataFrame()\n",
    "temp['a'] = finances['domestic_gross'].iloc[:,0]\n",
    "temp['b'] = [int(x.replace('$','').replace(',','')) for x in temp['a']]\n",
    "temp['c'] = [float(round(x, -5)) for x in temp['b']]\n",
    "temp['bom'] = finances['domestic_gross'].iloc[:,1]\n",
    "temp['eq'] = temp['c'] == temp['bom']\n",
    "\n",
    "#temp['eq'].value_counts()\n",
    "\n",
    "non_equals = temp.loc[temp['eq'] == False]\n",
    "non_equals = non_equals.drop(axis=1, labels=['a','b', 'eq'])/10**5\n",
    "non_equals.columns = ['The Numbers (DG)', 'Box Office Mojo (DG)']\n",
    "a = [int(x) for x in non_equals['The Numbers (DG)']]\n",
    "b = [int(x) for x in non_equals['Box Office Mojo (DG)']]\n",
    "\n",
    "non_equals = pd.DataFrame({'The Numbers (DG)':a, 'Box Office Mojo (DG)':b})\n",
    "non_equals['Is \"TN\" >= \"BOM\"'] = non_equals.iloc[:,0] >= non_equals.iloc[:,1]\n",
    "non_equals.iloc[:,2].value_counts()\n",
    "non_equals['% diff'] = (non_equals.iloc[:,0] - non_equals.iloc[:,1]) / non_equals.iloc[:,0]\n",
    "\n",
    "plt.hist(non_equals['% diff'].loc[(non_equals['% diff']> -0.8) & (non_equals['% diff'] < 0.8)], bins=10)\n",
    "plt.xlabel('Percent Difference')\n",
    "plt.ylabel('Number of movies falling into each bucket')\n",
    "plt.title('Comparison between two datasets that should contain the same values')\n",
    "plt.show()"
   ]
  },
  {
   "cell_type": "markdown",
   "metadata": {},
   "source": [
    "### Conclusions that can be drawn:\n",
    "\n",
    "- It is possible that the two datasets correspond to a different period in time. For example, the revenue will of course be higher in 2015 than it was in 2010. That said, there are still outlier, indicating that either there is more going on, or there are simply inexplicable incorrect data points in a few cases for each dataset. \n",
    "\n",
    "For the remainder of the analysis, revenue values from *The Numbers* will be used. They are way more precise and may correspond better to actual metrics."
   ]
  }
 ],
 "metadata": {
  "kernelspec": {
   "display_name": "Python 3",
   "language": "python",
   "name": "python3"
  },
  "language_info": {
   "codemirror_mode": {
    "name": "ipython",
    "version": 3
   },
   "file_extension": ".py",
   "mimetype": "text/x-python",
   "name": "python",
   "nbconvert_exporter": "python",
   "pygments_lexer": "ipython3",
   "version": "3.8.3"
  }
 },
 "nbformat": 4,
 "nbformat_minor": 4
}
